{
 "cells": [
  {
   "cell_type": "markdown",
   "metadata": {},
   "source": [
    "<h1 align=\"center\">¿Pueden identificarse mediante un análisis de tópicos, posturas respecto del tema cambio climático en noticias de medios de prensa escritos chilenos?</h1><br><div align=\"right\" style=\"font-size:0.8em;\">Magíster en Informática Universidad Austral de Chile · Minería y Aprendizaje con Datos · INFO334<br>\n",
    "Dra. Eliana Scheihing · Dr. Matthieu Vernier<br>\n",
    "Estudiantes:<br>\n",
    "Renato Boegeholz · Alan Keith<br>13 de junio de 2018</div>"
   ]
  },
  {
   "cell_type": "markdown",
   "metadata": {},
   "source": [
    "<h2> Contexto </h2>\n",
    "<p>El <b>cambio climático</b> es un cambio en la distribución estadística de los patrones meteorológicos durante un periodo prolongado de tiempo (décadas a millones de años). Puede referirse a un cambio en las condiciones promedio del tiempo o en la variación temporal meteorológica de las condiciones promedio a largo plazo (por ejemplo, más o menos fenómenos meteorológicos extremos). Es causado <b>factores naturales</b> como procesos bióticos, variaciones en la radiación solar recibida por la Tierra, tectónica de placas y erupciones volcánicas. También se han identificado ciertas <b>actividades humanas</b> como causa principal del cambio climático reciente, a menudo llamado <b>calentamiento global</b>. [1]</p>"
   ]
  },
  {
   "cell_type": "markdown",
   "metadata": {},
   "source": [
    "<h2> Pregunta de investigación </h2>\n",
    "\n",
    "<p>¿Pueden identificarse mediante un análisis de tópicos, posturas respecto del tema cambio climático en noticias de medios de prensa escritos chilenos?</p>\n",
    "\n",
    "<h2> Hipótesis </h2>\n",
    "<p>Es posible encontrar tópicos representativos de posturas frente al cambio climático en un conjunto de datos de medios de prensa chilenos analizados mediante un modelo Latent Dirichlet Allocation (LDA).</p>\n",
    "\n",
    "<h2> Objetivo </h2>\n",
    "<p>General: Encontrar tópicos relevantes referentes a posturas acerca del cambio climático aplicando análisis de tópicos en un conjunto de datos de medios de prensa chilenoas.</p>\n",
    "<p>Específicos:<ul><li>Obj.1. Identificar tópicos en base al conjunto de datos.</li><li>Obj.2. Estudiar la posible asociación entre los tópicos y posturas.</li><li>Obj.3. Comprobar usando el conjunto de datos original, la  validez de la asociación de tópicos con posturas.\n",
    "</li></ul></p>"
   ]
  },
  {
   "cell_type": "markdown",
   "metadata": {},
   "source": [
    "<h2>Metodología</h2>\n",
    "<p>Para la identificación de tópicos en base al conjunto de datos:</p>\n",
    "<p>· Se realizará una caracterización de los datos, con la intención de conocer atributos que puedan dar una idea acerca de la presencia o ausencia de pluralismo.<br>\n",
    "· Se aplicará un primer modelo de tópicos LDA al conjunto de datos (cuerpo de las noticias).<br>\n",
    "· Se realizará un filtrado de los datos, en base a criterios que se cree mejoran las opciones de conseguir los objetivos del trabajo.<br>\n",
    "· Se volverán a caracterizar los datos (esta vez filtrados) y se realizará un nuevo análisis de tópicos.</p>\n",
    "<p>Para la asocición de tópicos con posturas:</p>\n",
    "<p>· A partir de revisión bibliográfica, se describirá un árbol de decisión que intente representar las distintas posturas respecto del cambio climático y se asociarán términos, palabras o conceptos que representen cada una.<br>\n",
    "· Se revisarán los términos de cada tópico para intentar asociar (los tópicos) con una postura referente al tema en estudio.</p>\n"
   ]
  },
  {
   "cell_type": "markdown",
   "metadata": {},
   "source": [
    "<h2>Posturas respecto de la situación de cambio climático</h2> \n",
    "<p>Entendemos por postura, la tendencia que las personas siguen al juzgar determinadas situaciones, lo que configura su creencia o punto de vista respecto de un tema.<br>\n",
    "<p>Durante las últimas décadas, la preocupación por las consecuencias del <b>cambio climático</b> ha tomado fuerza y ha recibido atención de parte de los medios de prensa.</p>\n",
    "<p>En el siguiente diagrama, se muestra un \"árbol de decisión\" de las que podrían ser distintas posturas referentes al cambio climático [2].</p>\n",
    "![title](./img/posturas_cambio_climatico.png)\n",
    "<p>Es muy frecuente relacionar el concepto cambio climático con <b>calentamiento global</b>.</p>\n",
    "<p>En el diagrama, las distintas posturas se identifican con las letras A, B, C y D.</p>\n",
    "<p>Una vez aplicado el modelo de tópicos, se intentará relacionar las posturas con palabras o conceptos provenientes de glosarios [3] [4] relativos al tema en estudio.</p>"
   ]
  },
  {
   "cell_type": "markdown",
   "metadata": {},
   "source": [
    "<h2> Preparación de los datos </h2>"
   ]
  },
  {
   "cell_type": "code",
   "execution_count": 7,
   "metadata": {},
   "outputs": [],
   "source": [
    "import matplotlib\n",
    "import numpy as np\n",
    "import matplotlib.pyplot as plt\n",
    "import pandas as pd\n",
    "\n",
    "#Cargar el dataset\n",
    "df_cambioclim = pd.read_csv('./data/sophia_cambioclimatico_v2.csv',delimiter=\"|\", names = [\"datetime\", \"media\", \"headline\", \"body\"])\n",
    "# dataframe con los contenidos de las noticias\n",
    "docs = df_cambioclim[\"body\"].as_matrix()"
   ]
  },
  {
   "cell_type": "markdown",
   "metadata": {},
   "source": [
    "<h2> Caracterización de los datos </h2>"
   ]
  },
  {
   "cell_type": "markdown",
   "metadata": {},
   "source": [
    "- Los datos se componen de 1235 observaciones tomadas durante un periodo de tiempo de 460 días, en una muestra de 172 medios de comunicación distintos. \n",
    "- Respecto a las publicaciones por cada medio, se tienen entre 1 y 90, con una media de 7 publicaciones.\n",
    "- El largo promedio de cada artículo es de 2.473 caracteres, con largos entre 237 y  12.555 caracteres."
   ]
  },
  {
   "cell_type": "code",
   "execution_count": 4,
   "metadata": {},
   "outputs": [
    {
     "data": {
      "text/html": [
       "<div>\n",
       "<table border=\"1\" class=\"dataframe\">\n",
       "  <thead>\n",
       "    <tr style=\"text-align: right;\">\n",
       "      <th></th>\n",
       "      <th>media</th>\n",
       "      <th>nofnews</th>\n",
       "    </tr>\n",
       "  </thead>\n",
       "  <tbody>\n",
       "    <tr>\n",
       "      <th>130</th>\n",
       "      <td>latercera</td>\n",
       "      <td>90</td>\n",
       "    </tr>\n",
       "    <tr>\n",
       "      <th>63</th>\n",
       "      <td>RedMiVoz</td>\n",
       "      <td>58</td>\n",
       "    </tr>\n",
       "    <tr>\n",
       "      <th>77</th>\n",
       "      <td>biobio</td>\n",
       "      <td>46</td>\n",
       "    </tr>\n",
       "    <tr>\n",
       "      <th>108</th>\n",
       "      <td>elmostrador</td>\n",
       "      <td>45</td>\n",
       "    </tr>\n",
       "    <tr>\n",
       "      <th>0</th>\n",
       "      <td>24HorasTVN</td>\n",
       "      <td>40</td>\n",
       "    </tr>\n",
       "    <tr>\n",
       "      <th>26</th>\n",
       "      <td>El_Ciudadano</td>\n",
       "      <td>37</td>\n",
       "    </tr>\n",
       "    <tr>\n",
       "      <th>11</th>\n",
       "      <td>Cronica_Digital</td>\n",
       "      <td>31</td>\n",
       "    </tr>\n",
       "    <tr>\n",
       "      <th>58</th>\n",
       "      <td>RadioDuna</td>\n",
       "      <td>27</td>\n",
       "    </tr>\n",
       "    <tr>\n",
       "      <th>66</th>\n",
       "      <td>T13</td>\n",
       "      <td>27</td>\n",
       "    </tr>\n",
       "    <tr>\n",
       "      <th>136</th>\n",
       "      <td>msncl</td>\n",
       "      <td>27</td>\n",
       "    </tr>\n",
       "    <tr>\n",
       "      <th>1</th>\n",
       "      <td>AQUASocial</td>\n",
       "      <td>26</td>\n",
       "    </tr>\n",
       "    <tr>\n",
       "      <th>95</th>\n",
       "      <td>el_dinamo</td>\n",
       "      <td>26</td>\n",
       "    </tr>\n",
       "    <tr>\n",
       "      <th>82</th>\n",
       "      <td>chilevision</td>\n",
       "      <td>21</td>\n",
       "    </tr>\n",
       "    <tr>\n",
       "      <th>27</th>\n",
       "      <td>Elregionalcl</td>\n",
       "      <td>21</td>\n",
       "    </tr>\n",
       "    <tr>\n",
       "      <th>7</th>\n",
       "      <td>CNNChile</td>\n",
       "      <td>20</td>\n",
       "    </tr>\n",
       "    <tr>\n",
       "      <th>35</th>\n",
       "      <td>GreenpeaceCL</td>\n",
       "      <td>20</td>\n",
       "    </tr>\n",
       "    <tr>\n",
       "      <th>53</th>\n",
       "      <td>PublimetroChile</td>\n",
       "      <td>19</td>\n",
       "    </tr>\n",
       "    <tr>\n",
       "      <th>163</th>\n",
       "      <td>thecliniccl</td>\n",
       "      <td>19</td>\n",
       "    </tr>\n",
       "    <tr>\n",
       "      <th>6</th>\n",
       "      <td>CHVNoticiascl</td>\n",
       "      <td>18</td>\n",
       "    </tr>\n",
       "    <tr>\n",
       "      <th>42</th>\n",
       "      <td>LaRedTV</td>\n",
       "      <td>15</td>\n",
       "    </tr>\n",
       "    <tr>\n",
       "      <th>137</th>\n",
       "      <td>nacioncl</td>\n",
       "      <td>15</td>\n",
       "    </tr>\n",
       "    <tr>\n",
       "      <th>73</th>\n",
       "      <td>adnradiochile</td>\n",
       "      <td>13</td>\n",
       "    </tr>\n",
       "    <tr>\n",
       "      <th>43</th>\n",
       "      <td>LaSerenaOnline</td>\n",
       "      <td>12</td>\n",
       "    </tr>\n",
       "    <tr>\n",
       "      <th>142</th>\n",
       "      <td>pinguinodiario</td>\n",
       "      <td>12</td>\n",
       "    </tr>\n",
       "    <tr>\n",
       "      <th>125</th>\n",
       "      <td>ladiscusioncl</td>\n",
       "      <td>12</td>\n",
       "    </tr>\n",
       "    <tr>\n",
       "      <th>144</th>\n",
       "      <td>radiomaray</td>\n",
       "      <td>12</td>\n",
       "    </tr>\n",
       "    <tr>\n",
       "      <th>9</th>\n",
       "      <td>Cooperativa</td>\n",
       "      <td>12</td>\n",
       "    </tr>\n",
       "    <tr>\n",
       "      <th>69</th>\n",
       "      <td>Tele13_Radio</td>\n",
       "      <td>11</td>\n",
       "    </tr>\n",
       "    <tr>\n",
       "      <th>143</th>\n",
       "      <td>pulso_tw</td>\n",
       "      <td>11</td>\n",
       "    </tr>\n",
       "    <tr>\n",
       "      <th>167</th>\n",
       "      <td>uchileradio</td>\n",
       "      <td>11</td>\n",
       "    </tr>\n",
       "    <tr>\n",
       "      <th>...</th>\n",
       "      <td>...</td>\n",
       "      <td>...</td>\n",
       "    </tr>\n",
       "    <tr>\n",
       "      <th>54</th>\n",
       "      <td>Publimetro_TV</td>\n",
       "      <td>1</td>\n",
       "    </tr>\n",
       "    <tr>\n",
       "      <th>51</th>\n",
       "      <td>PrensaChiloe</td>\n",
       "      <td>1</td>\n",
       "    </tr>\n",
       "    <tr>\n",
       "      <th>48</th>\n",
       "      <td>Mega</td>\n",
       "      <td>1</td>\n",
       "    </tr>\n",
       "    <tr>\n",
       "      <th>40</th>\n",
       "      <td>LaNoticiaOn</td>\n",
       "      <td>1</td>\n",
       "    </tr>\n",
       "    <tr>\n",
       "      <th>65</th>\n",
       "      <td>SemanarioLocal</td>\n",
       "      <td>1</td>\n",
       "    </tr>\n",
       "    <tr>\n",
       "      <th>37</th>\n",
       "      <td>InforiosCL</td>\n",
       "      <td>1</td>\n",
       "    </tr>\n",
       "    <tr>\n",
       "      <th>31</th>\n",
       "      <td>Estrella_Toco</td>\n",
       "      <td>1</td>\n",
       "    </tr>\n",
       "    <tr>\n",
       "      <th>30</th>\n",
       "      <td>Estrategiacl</td>\n",
       "      <td>1</td>\n",
       "    </tr>\n",
       "    <tr>\n",
       "      <th>16</th>\n",
       "      <td>DiarioOvalleHoy</td>\n",
       "      <td>1</td>\n",
       "    </tr>\n",
       "    <tr>\n",
       "      <th>13</th>\n",
       "      <td>DMatamala</td>\n",
       "      <td>1</td>\n",
       "    </tr>\n",
       "    <tr>\n",
       "      <th>10</th>\n",
       "      <td>CronicaChillan</td>\n",
       "      <td>1</td>\n",
       "    </tr>\n",
       "    <tr>\n",
       "      <th>62</th>\n",
       "      <td>RadioValparaiso</td>\n",
       "      <td>1</td>\n",
       "    </tr>\n",
       "    <tr>\n",
       "      <th>70</th>\n",
       "      <td>Temucodiario</td>\n",
       "      <td>1</td>\n",
       "    </tr>\n",
       "    <tr>\n",
       "      <th>134</th>\n",
       "      <td>mercurioafta</td>\n",
       "      <td>1</td>\n",
       "    </tr>\n",
       "    <tr>\n",
       "      <th>123</th>\n",
       "      <td>girovisualtv</td>\n",
       "      <td>1</td>\n",
       "    </tr>\n",
       "    <tr>\n",
       "      <th>133</th>\n",
       "      <td>mauriciohofmann</td>\n",
       "      <td>1</td>\n",
       "    </tr>\n",
       "    <tr>\n",
       "      <th>131</th>\n",
       "      <td>losandeshoytwit</td>\n",
       "      <td>1</td>\n",
       "    </tr>\n",
       "    <tr>\n",
       "      <th>129</th>\n",
       "      <td>laprensacurico</td>\n",
       "      <td>1</td>\n",
       "    </tr>\n",
       "    <tr>\n",
       "      <th>127</th>\n",
       "      <td>laestrellavalpo</td>\n",
       "      <td>1</td>\n",
       "    </tr>\n",
       "    <tr>\n",
       "      <th>126</th>\n",
       "      <td>laestrelladeqta</td>\n",
       "      <td>1</td>\n",
       "    </tr>\n",
       "    <tr>\n",
       "      <th>124</th>\n",
       "      <td>la7talca</td>\n",
       "      <td>1</td>\n",
       "    </tr>\n",
       "    <tr>\n",
       "      <th>122</th>\n",
       "      <td>estrellachiloe</td>\n",
       "      <td>1</td>\n",
       "    </tr>\n",
       "    <tr>\n",
       "      <th>71</th>\n",
       "      <td>TerraChile</td>\n",
       "      <td>1</td>\n",
       "    </tr>\n",
       "    <tr>\n",
       "      <th>112</th>\n",
       "      <td>elovallino</td>\n",
       "      <td>1</td>\n",
       "    </tr>\n",
       "    <tr>\n",
       "      <th>99</th>\n",
       "      <td>eldefinido</td>\n",
       "      <td>1</td>\n",
       "    </tr>\n",
       "    <tr>\n",
       "      <th>90</th>\n",
       "      <td>diarioatacama</td>\n",
       "      <td>1</td>\n",
       "    </tr>\n",
       "    <tr>\n",
       "      <th>88</th>\n",
       "      <td>diario_eha</td>\n",
       "      <td>1</td>\n",
       "    </tr>\n",
       "    <tr>\n",
       "      <th>87</th>\n",
       "      <td>ddivisadero</td>\n",
       "      <td>1</td>\n",
       "    </tr>\n",
       "    <tr>\n",
       "      <th>84</th>\n",
       "      <td>copano</td>\n",
       "      <td>1</td>\n",
       "    </tr>\n",
       "    <tr>\n",
       "      <th>171</th>\n",
       "      <td>vlnradio</td>\n",
       "      <td>1</td>\n",
       "    </tr>\n",
       "  </tbody>\n",
       "</table>\n",
       "<p>172 rows × 2 columns</p>\n",
       "</div>"
      ],
      "text/plain": [
       "                 media  nofnews\n",
       "130         latercera        90\n",
       "63           RedMiVoz        58\n",
       "77             biobio        46\n",
       "108       elmostrador        45\n",
       "0          24HorasTVN        40\n",
       "26       El_Ciudadano        37\n",
       "11    Cronica_Digital        31\n",
       "58          RadioDuna        27\n",
       "66                T13        27\n",
       "136             msncl        27\n",
       "1          AQUASocial        26\n",
       "95          el_dinamo        26\n",
       "82        chilevision        21\n",
       "27       Elregionalcl        21\n",
       "7            CNNChile        20\n",
       "35       GreenpeaceCL        20\n",
       "53    PublimetroChile        19\n",
       "163       thecliniccl        19\n",
       "6       CHVNoticiascl        18\n",
       "42            LaRedTV        15\n",
       "137          nacioncl        15\n",
       "73      adnradiochile        13\n",
       "43     LaSerenaOnline        12\n",
       "142    pinguinodiario        12\n",
       "125     ladiscusioncl        12\n",
       "144        radiomaray        12\n",
       "9         Cooperativa        12\n",
       "69       Tele13_Radio        11\n",
       "143          pulso_tw        11\n",
       "167       uchileradio        11\n",
       "..                 ...      ...\n",
       "54      Publimetro_TV         1\n",
       "51       PrensaChiloe         1\n",
       "48               Mega         1\n",
       "40        LaNoticiaOn         1\n",
       "65     SemanarioLocal         1\n",
       "37         InforiosCL         1\n",
       "31      Estrella_Toco         1\n",
       "30       Estrategiacl         1\n",
       "16    DiarioOvalleHoy         1\n",
       "13          DMatamala         1\n",
       "10     CronicaChillan         1\n",
       "62    RadioValparaiso         1\n",
       "70       Temucodiario         1\n",
       "134      mercurioafta         1\n",
       "123      girovisualtv         1\n",
       "133   mauriciohofmann         1\n",
       "131   losandeshoytwit         1\n",
       "129    laprensacurico         1\n",
       "127   laestrellavalpo         1\n",
       "126   laestrelladeqta         1\n",
       "124          la7talca         1\n",
       "122    estrellachiloe         1\n",
       "71         TerraChile         1\n",
       "112        elovallino         1\n",
       "99         eldefinido         1\n",
       "90      diarioatacama         1\n",
       "88         diario_eha         1\n",
       "87        ddivisadero         1\n",
       "84             copano         1\n",
       "171          vlnradio         1\n",
       "\n",
       "[172 rows x 2 columns]"
      ]
     },
     "execution_count": 4,
     "metadata": {},
     "output_type": "execute_result"
    }
   ],
   "source": [
    "## CARACTERIZACION DE LOS DATOS\n",
    "# Cantidad de noticias por medio\n",
    "publicacionesxmedio = df_cambioclim.groupby(\"media\").size().to_frame(\"nofnews\").reset_index().sort_values(\"nofnews\", ascending=False)\n",
    "publicacionesxmedio"
   ]
  },
  {
   "cell_type": "code",
   "execution_count": 26,
   "metadata": {},
   "outputs": [
    {
     "data": {
      "text/html": [
       "<div>\n",
       "<table border=\"1\" class=\"dataframe\">\n",
       "  <thead>\n",
       "    <tr style=\"text-align: right;\">\n",
       "      <th></th>\n",
       "      <th>nofnews</th>\n",
       "    </tr>\n",
       "  </thead>\n",
       "  <tbody>\n",
       "    <tr>\n",
       "      <th>count</th>\n",
       "      <td>172.000000</td>\n",
       "    </tr>\n",
       "    <tr>\n",
       "      <th>mean</th>\n",
       "      <td>7.180233</td>\n",
       "    </tr>\n",
       "    <tr>\n",
       "      <th>std</th>\n",
       "      <td>11.108559</td>\n",
       "    </tr>\n",
       "    <tr>\n",
       "      <th>min</th>\n",
       "      <td>1.000000</td>\n",
       "    </tr>\n",
       "    <tr>\n",
       "      <th>25%</th>\n",
       "      <td>2.000000</td>\n",
       "    </tr>\n",
       "    <tr>\n",
       "      <th>50%</th>\n",
       "      <td>4.000000</td>\n",
       "    </tr>\n",
       "    <tr>\n",
       "      <th>75%</th>\n",
       "      <td>7.000000</td>\n",
       "    </tr>\n",
       "    <tr>\n",
       "      <th>max</th>\n",
       "      <td>90.000000</td>\n",
       "    </tr>\n",
       "  </tbody>\n",
       "</table>\n",
       "</div>"
      ],
      "text/plain": [
       "          nofnews\n",
       "count  172.000000\n",
       "mean     7.180233\n",
       "std     11.108559\n",
       "min      1.000000\n",
       "25%      2.000000\n",
       "50%      4.000000\n",
       "75%      7.000000\n",
       "max     90.000000"
      ]
     },
     "execution_count": 26,
     "metadata": {},
     "output_type": "execute_result"
    }
   ],
   "source": [
    "# Noticias por medio\n",
    "publicacionesxmedio.describe()"
   ]
  },
  {
   "cell_type": "code",
   "execution_count": 27,
   "metadata": {},
   "outputs": [
    {
     "data": {
      "text/plain": [
       "<matplotlib.text.Text at 0x7f03def4f630>"
      ]
     },
     "execution_count": 27,
     "metadata": {},
     "output_type": "execute_result"
    },
    {
     "data": {
      "image/png": "[encoded data removed]",
      "text/plain": [
       "<matplotlib.figure.Figure at 0x7f03df2dd518>"
      ]
     },
     "metadata": {},
     "output_type": "display_data"
    }
   ],
   "source": [
    "# Largo de noticias\n",
    "df_cc_bodylen = df_cambioclim['body'].str.len().to_frame(\"bodylen\").sort_values(\"bodylen\", ascending=True)\n",
    "bodylen_hist = df_cc_bodylen.hist(column='bodylen', bins=20)\n",
    "plt.title('Largo de las noticias')\n",
    "plt.xlabel('Largo (caracteres)')\n",
    "plt.ylabel('Cantidad noticias')"
   ]
  },
  {
   "cell_type": "code",
   "execution_count": 32,
   "metadata": {},
   "outputs": [
    {
     "data": {
      "text/html": [
       "<div>\n",
       "<table border=\"1\" class=\"dataframe\">\n",
       "  <thead>\n",
       "    <tr style=\"text-align: right;\">\n",
       "      <th></th>\n",
       "      <th>bodylen</th>\n",
       "    </tr>\n",
       "  </thead>\n",
       "  <tbody>\n",
       "    <tr>\n",
       "      <th>count</th>\n",
       "      <td>1235.000000</td>\n",
       "    </tr>\n",
       "    <tr>\n",
       "      <th>mean</th>\n",
       "      <td>2473.384615</td>\n",
       "    </tr>\n",
       "    <tr>\n",
       "      <th>std</th>\n",
       "      <td>1827.724567</td>\n",
       "    </tr>\n",
       "    <tr>\n",
       "      <th>min</th>\n",
       "      <td>237.000000</td>\n",
       "    </tr>\n",
       "    <tr>\n",
       "      <th>25%</th>\n",
       "      <td>1066.000000</td>\n",
       "    </tr>\n",
       "    <tr>\n",
       "      <th>50%</th>\n",
       "      <td>1956.000000</td>\n",
       "    </tr>\n",
       "    <tr>\n",
       "      <th>75%</th>\n",
       "      <td>3209.500000</td>\n",
       "    </tr>\n",
       "    <tr>\n",
       "      <th>max</th>\n",
       "      <td>12555.000000</td>\n",
       "    </tr>\n",
       "  </tbody>\n",
       "</table>\n",
       "</div>"
      ],
      "text/plain": [
       "            bodylen\n",
       "count   1235.000000\n",
       "mean    2473.384615\n",
       "std     1827.724567\n",
       "min      237.000000\n",
       "25%     1066.000000\n",
       "50%     1956.000000\n",
       "75%     3209.500000\n",
       "max    12555.000000"
      ]
     },
     "execution_count": 32,
     "metadata": {},
     "output_type": "execute_result"
    }
   ],
   "source": [
    "\n",
    "df_cc_bodylen.describe()\n"
   ]
  },
  {
   "cell_type": "code",
   "execution_count": 33,
   "metadata": {},
   "outputs": [
    {
     "data": {
      "text/html": [
       "<div>\n",
       "<table border=\"1\" class=\"dataframe\">\n",
       "  <thead>\n",
       "    <tr>\n",
       "      <th></th>\n",
       "      <th colspan=\"3\" halign=\"left\">datetime</th>\n",
       "    </tr>\n",
       "    <tr>\n",
       "      <th></th>\n",
       "      <th>min</th>\n",
       "      <th>max</th>\n",
       "      <th>count</th>\n",
       "    </tr>\n",
       "    <tr>\n",
       "      <th>media</th>\n",
       "      <th></th>\n",
       "      <th></th>\n",
       "      <th></th>\n",
       "    </tr>\n",
       "  </thead>\n",
       "  <tbody>\n",
       "    <tr>\n",
       "      <th>24HorasTVN</th>\n",
       "      <td>2017-02-09 22:46:07</td>\n",
       "      <td>2018-03-25 05:11:51</td>\n",
       "      <td>40</td>\n",
       "    </tr>\n",
       "    <tr>\n",
       "      <th>AQUASocial</th>\n",
       "      <td>2017-02-06 11:54:07</td>\n",
       "      <td>2018-04-03 09:33:52</td>\n",
       "      <td>26</td>\n",
       "    </tr>\n",
       "    <tr>\n",
       "      <th>AgriculturaFM</th>\n",
       "      <td>2017-04-21 15:43:15</td>\n",
       "      <td>2017-11-22 20:45:30</td>\n",
       "      <td>6</td>\n",
       "    </tr>\n",
       "    <tr>\n",
       "      <th>AntofagastaTV</th>\n",
       "      <td>2017-08-09 18:31:52</td>\n",
       "      <td>2017-08-29 11:01:58</td>\n",
       "      <td>2</td>\n",
       "    </tr>\n",
       "    <tr>\n",
       "      <th>AoLaonline</th>\n",
       "      <td>2018-02-06 09:24:26</td>\n",
       "      <td>2018-02-10 09:22:21</td>\n",
       "      <td>2</td>\n",
       "    </tr>\n",
       "    <tr>\n",
       "      <th>AtacamaNoticias</th>\n",
       "      <td>2017-08-11 10:16:13</td>\n",
       "      <td>2017-08-30 10:18:18</td>\n",
       "      <td>2</td>\n",
       "    </tr>\n",
       "    <tr>\n",
       "      <th>CHVNoticiascl</th>\n",
       "      <td>2017-04-06 16:40:07</td>\n",
       "      <td>2018-03-12 08:50:07</td>\n",
       "      <td>18</td>\n",
       "    </tr>\n",
       "    <tr>\n",
       "      <th>CNNChile</th>\n",
       "      <td>2017-03-28 07:40:10</td>\n",
       "      <td>2018-03-19 20:37:42</td>\n",
       "      <td>20</td>\n",
       "    </tr>\n",
       "    <tr>\n",
       "      <th>ChillanOnline</th>\n",
       "      <td>2017-06-02 16:00:26</td>\n",
       "      <td>2018-03-23 14:02:13</td>\n",
       "      <td>6</td>\n",
       "    </tr>\n",
       "    <tr>\n",
       "      <th>Cooperativa</th>\n",
       "      <td>2017-03-25 22:34:02</td>\n",
       "      <td>2018-01-23 07:19:29</td>\n",
       "      <td>12</td>\n",
       "    </tr>\n",
       "    <tr>\n",
       "      <th>CronicaChillan</th>\n",
       "      <td>2018-03-20 11:30:05</td>\n",
       "      <td>2018-03-20 11:30:05</td>\n",
       "      <td>1</td>\n",
       "    </tr>\n",
       "    <tr>\n",
       "      <th>Cronica_Digital</th>\n",
       "      <td>2017-03-06 11:54:42</td>\n",
       "      <td>2018-02-24 12:16:52</td>\n",
       "      <td>31</td>\n",
       "    </tr>\n",
       "    <tr>\n",
       "      <th>DFinanciero</th>\n",
       "      <td>2017-03-28 16:07:50</td>\n",
       "      <td>2018-03-16 16:50:00</td>\n",
       "      <td>6</td>\n",
       "    </tr>\n",
       "    <tr>\n",
       "      <th>DMatamala</th>\n",
       "      <td>2017-09-11 12:11:29</td>\n",
       "      <td>2017-09-11 12:11:29</td>\n",
       "      <td>1</td>\n",
       "    </tr>\n",
       "    <tr>\n",
       "      <th>DiarioConce</th>\n",
       "      <td>2017-06-29 18:00:58</td>\n",
       "      <td>2018-01-14 11:30:06</td>\n",
       "      <td>6</td>\n",
       "    </tr>\n",
       "    <tr>\n",
       "      <th>DiarioLaHora</th>\n",
       "      <td>2017-05-04 09:30:26</td>\n",
       "      <td>2017-07-25 10:00:47</td>\n",
       "      <td>4</td>\n",
       "    </tr>\n",
       "    <tr>\n",
       "      <th>DiarioOvalleHoy</th>\n",
       "      <td>2017-11-02 11:10:48</td>\n",
       "      <td>2017-11-02 11:10:48</td>\n",
       "      <td>1</td>\n",
       "    </tr>\n",
       "    <tr>\n",
       "      <th>DiarioPaillaco</th>\n",
       "      <td>2017-05-15 17:38:44</td>\n",
       "      <td>2017-07-31 14:59:06</td>\n",
       "      <td>3</td>\n",
       "    </tr>\n",
       "    <tr>\n",
       "      <th>DigitalFmChile</th>\n",
       "      <td>2017-03-24 23:48:02</td>\n",
       "      <td>2018-01-10 19:49:44</td>\n",
       "      <td>7</td>\n",
       "    </tr>\n",
       "    <tr>\n",
       "      <th>ELCLARINDECHILE</th>\n",
       "      <td>2017-07-15 11:37:17</td>\n",
       "      <td>2018-02-24 22:57:43</td>\n",
       "      <td>3</td>\n",
       "    </tr>\n",
       "    <tr>\n",
       "      <th>EYN_ELMERCURIO</th>\n",
       "      <td>2017-02-17 13:16:30</td>\n",
       "      <td>2017-08-11 14:13:47</td>\n",
       "      <td>5</td>\n",
       "    </tr>\n",
       "    <tr>\n",
       "      <th>ElAriqueno</th>\n",
       "      <td>2017-06-01 21:11:05</td>\n",
       "      <td>2017-11-12 09:43:47</td>\n",
       "      <td>3</td>\n",
       "    </tr>\n",
       "    <tr>\n",
       "      <th>ElBoyaldia</th>\n",
       "      <td>2017-02-23 18:43:36</td>\n",
       "      <td>2017-03-31 17:36:11</td>\n",
       "      <td>3</td>\n",
       "    </tr>\n",
       "    <tr>\n",
       "      <th>ElDeportivoLT</th>\n",
       "      <td>2018-02-12 16:00:06</td>\n",
       "      <td>2018-04-16 08:46:35</td>\n",
       "      <td>5</td>\n",
       "    </tr>\n",
       "    <tr>\n",
       "      <th>ElLongino</th>\n",
       "      <td>2017-05-31 11:34:17</td>\n",
       "      <td>2017-07-24 18:47:18</td>\n",
       "      <td>2</td>\n",
       "    </tr>\n",
       "    <tr>\n",
       "      <th>ElPeriodista</th>\n",
       "      <td>2017-06-01 20:59:48</td>\n",
       "      <td>2017-11-29 20:57:41</td>\n",
       "      <td>4</td>\n",
       "    </tr>\n",
       "    <tr>\n",
       "      <th>El_Ciudadano</th>\n",
       "      <td>2017-02-01 13:20:23</td>\n",
       "      <td>2018-04-18 09:01:32</td>\n",
       "      <td>37</td>\n",
       "    </tr>\n",
       "    <tr>\n",
       "      <th>Elregionalcl</th>\n",
       "      <td>2017-03-21 03:36:25</td>\n",
       "      <td>2017-08-30 00:16:22</td>\n",
       "      <td>21</td>\n",
       "    </tr>\n",
       "    <tr>\n",
       "      <th>Elvacanudo</th>\n",
       "      <td>2017-02-23 18:29:12</td>\n",
       "      <td>2018-03-14 20:03:09</td>\n",
       "      <td>4</td>\n",
       "    </tr>\n",
       "    <tr>\n",
       "      <th>EnLineaMaule</th>\n",
       "      <td>2017-03-24 12:19:13</td>\n",
       "      <td>2017-07-25 07:15:05</td>\n",
       "      <td>4</td>\n",
       "    </tr>\n",
       "    <tr>\n",
       "      <th>...</th>\n",
       "      <td>...</td>\n",
       "      <td>...</td>\n",
       "      <td>...</td>\n",
       "    </tr>\n",
       "    <tr>\n",
       "      <th>pinguinodiario</th>\n",
       "      <td>2017-03-28 20:20:07</td>\n",
       "      <td>2018-02-20 11:40:05</td>\n",
       "      <td>12</td>\n",
       "    </tr>\n",
       "    <tr>\n",
       "      <th>pulso_tw</th>\n",
       "      <td>2017-02-17 16:25:15</td>\n",
       "      <td>2018-02-07 11:24:55</td>\n",
       "      <td>11</td>\n",
       "    </tr>\n",
       "    <tr>\n",
       "      <th>radiomaray</th>\n",
       "      <td>2017-03-21 09:29:44</td>\n",
       "      <td>2018-01-11 09:08:29</td>\n",
       "      <td>12</td>\n",
       "    </tr>\n",
       "    <tr>\n",
       "      <th>radiozero977</th>\n",
       "      <td>2017-02-15 18:20:01</td>\n",
       "      <td>2017-12-14 16:00:01</td>\n",
       "      <td>7</td>\n",
       "    </tr>\n",
       "    <tr>\n",
       "      <th>redcomunales</th>\n",
       "      <td>2017-04-11 09:59:14</td>\n",
       "      <td>2017-11-02 11:27:17</td>\n",
       "      <td>4</td>\n",
       "    </tr>\n",
       "    <tr>\n",
       "      <th>redpanguipulli</th>\n",
       "      <td>2017-07-31 16:50:51</td>\n",
       "      <td>2017-08-09 09:40:02</td>\n",
       "      <td>2</td>\n",
       "    </tr>\n",
       "    <tr>\n",
       "      <th>revistaQP</th>\n",
       "      <td>2017-06-16 09:01:15</td>\n",
       "      <td>2017-06-25 18:00:01</td>\n",
       "      <td>3</td>\n",
       "    </tr>\n",
       "    <tr>\n",
       "      <th>revistacapital</th>\n",
       "      <td>2017-02-01 13:00:44</td>\n",
       "      <td>2018-01-08 15:10:59</td>\n",
       "      <td>10</td>\n",
       "    </tr>\n",
       "    <tr>\n",
       "      <th>rioenlinea</th>\n",
       "      <td>2017-02-28 08:00:28</td>\n",
       "      <td>2017-08-13 09:15:04</td>\n",
       "      <td>2</td>\n",
       "    </tr>\n",
       "    <tr>\n",
       "      <th>rtierrabella</th>\n",
       "      <td>2017-03-11 21:00:02</td>\n",
       "      <td>2017-08-28 10:00:03</td>\n",
       "      <td>5</td>\n",
       "    </tr>\n",
       "    <tr>\n",
       "      <th>sancarlosonline</th>\n",
       "      <td>2017-05-20 13:28:54</td>\n",
       "      <td>2018-03-22 10:49:00</td>\n",
       "      <td>4</td>\n",
       "    </tr>\n",
       "    <tr>\n",
       "      <th>sexta_noticias</th>\n",
       "      <td>2017-07-12 08:32:06</td>\n",
       "      <td>2017-11-02 13:02:36</td>\n",
       "      <td>5</td>\n",
       "    </tr>\n",
       "    <tr>\n",
       "      <th>soyantofagasta</th>\n",
       "      <td>2018-04-13 16:07:00</td>\n",
       "      <td>2018-04-13 16:07:00</td>\n",
       "      <td>1</td>\n",
       "    </tr>\n",
       "    <tr>\n",
       "      <th>soychilecl</th>\n",
       "      <td>2017-03-24 23:48:02</td>\n",
       "      <td>2018-01-10 19:49:44</td>\n",
       "      <td>7</td>\n",
       "    </tr>\n",
       "    <tr>\n",
       "      <th>soychillan</th>\n",
       "      <td>2018-03-20 14:12:31</td>\n",
       "      <td>2018-03-20 14:12:31</td>\n",
       "      <td>1</td>\n",
       "    </tr>\n",
       "    <tr>\n",
       "      <th>soychiloe</th>\n",
       "      <td>2017-06-19 16:17:55</td>\n",
       "      <td>2017-06-19 16:17:55</td>\n",
       "      <td>1</td>\n",
       "    </tr>\n",
       "    <tr>\n",
       "      <th>soycopiapo</th>\n",
       "      <td>2018-03-17 09:22:34</td>\n",
       "      <td>2018-03-17 09:22:34</td>\n",
       "      <td>1</td>\n",
       "    </tr>\n",
       "    <tr>\n",
       "      <th>soyosorno</th>\n",
       "      <td>2017-03-21 11:45:57</td>\n",
       "      <td>2017-12-07 17:20:08</td>\n",
       "      <td>3</td>\n",
       "    </tr>\n",
       "    <tr>\n",
       "      <th>soypuertomontt</th>\n",
       "      <td>2017-05-06 16:47:33</td>\n",
       "      <td>2018-02-05 14:00:42</td>\n",
       "      <td>4</td>\n",
       "    </tr>\n",
       "    <tr>\n",
       "      <th>soyvalparaiso</th>\n",
       "      <td>2017-11-28 12:56:22</td>\n",
       "      <td>2017-11-28 12:56:22</td>\n",
       "      <td>1</td>\n",
       "    </tr>\n",
       "    <tr>\n",
       "      <th>tentos</th>\n",
       "      <td>2017-03-24 23:01:22</td>\n",
       "      <td>2017-09-20 18:52:44</td>\n",
       "      <td>2</td>\n",
       "    </tr>\n",
       "    <tr>\n",
       "      <th>thecliniccl</th>\n",
       "      <td>2017-03-09 18:40:56</td>\n",
       "      <td>2018-01-28 19:32:14</td>\n",
       "      <td>19</td>\n",
       "    </tr>\n",
       "    <tr>\n",
       "      <th>tv_Amaro</th>\n",
       "      <td>2017-05-08 08:03:40</td>\n",
       "      <td>2017-09-25 23:00:28</td>\n",
       "      <td>2</td>\n",
       "    </tr>\n",
       "    <tr>\n",
       "      <th>tvmaulinos</th>\n",
       "      <td>2017-07-09 11:25:56</td>\n",
       "      <td>2018-04-03 16:19:49</td>\n",
       "      <td>2</td>\n",
       "    </tr>\n",
       "    <tr>\n",
       "      <th>tvosanvicente</th>\n",
       "      <td>2017-07-28 17:30:02</td>\n",
       "      <td>2017-08-24 18:30:12</td>\n",
       "      <td>2</td>\n",
       "    </tr>\n",
       "    <tr>\n",
       "      <th>uchileradio</th>\n",
       "      <td>2017-04-02 13:00:18</td>\n",
       "      <td>2017-11-08 07:20:00</td>\n",
       "      <td>11</td>\n",
       "    </tr>\n",
       "    <tr>\n",
       "      <th>ucvradio</th>\n",
       "      <td>2017-08-18 07:30:13</td>\n",
       "      <td>2017-12-02 18:05:07</td>\n",
       "      <td>5</td>\n",
       "    </tr>\n",
       "    <tr>\n",
       "      <th>verdecercatv</th>\n",
       "      <td>2017-06-29 09:44:48</td>\n",
       "      <td>2017-10-31 10:23:01</td>\n",
       "      <td>3</td>\n",
       "    </tr>\n",
       "    <tr>\n",
       "      <th>vlanoticia</th>\n",
       "      <td>2017-04-06 19:28:00</td>\n",
       "      <td>2017-11-03 12:13:25</td>\n",
       "      <td>3</td>\n",
       "    </tr>\n",
       "    <tr>\n",
       "      <th>vlnradio</th>\n",
       "      <td>2018-04-09 15:09:32</td>\n",
       "      <td>2018-04-09 15:09:32</td>\n",
       "      <td>1</td>\n",
       "    </tr>\n",
       "  </tbody>\n",
       "</table>\n",
       "<p>172 rows × 3 columns</p>\n",
       "</div>"
      ],
      "text/plain": [
       "                               datetime                            \n",
       "                                    min                   max count\n",
       "media                                                              \n",
       " 24HorasTVN        2017-02-09 22:46:07   2018-03-25 05:11:51     40\n",
       " AQUASocial        2017-02-06 11:54:07   2018-04-03 09:33:52     26\n",
       " AgriculturaFM     2017-04-21 15:43:15   2017-11-22 20:45:30      6\n",
       " AntofagastaTV     2017-08-09 18:31:52   2017-08-29 11:01:58      2\n",
       " AoLaonline        2018-02-06 09:24:26   2018-02-10 09:22:21      2\n",
       " AtacamaNoticias   2017-08-11 10:16:13   2017-08-30 10:18:18      2\n",
       " CHVNoticiascl     2017-04-06 16:40:07   2018-03-12 08:50:07     18\n",
       " CNNChile          2017-03-28 07:40:10   2018-03-19 20:37:42     20\n",
       " ChillanOnline     2017-06-02 16:00:26   2018-03-23 14:02:13      6\n",
       " Cooperativa       2017-03-25 22:34:02   2018-01-23 07:19:29     12\n",
       " CronicaChillan    2018-03-20 11:30:05   2018-03-20 11:30:05      1\n",
       " Cronica_Digital   2017-03-06 11:54:42   2018-02-24 12:16:52     31\n",
       " DFinanciero       2017-03-28 16:07:50   2018-03-16 16:50:00      6\n",
       " DMatamala         2017-09-11 12:11:29   2017-09-11 12:11:29      1\n",
       " DiarioConce       2017-06-29 18:00:58   2018-01-14 11:30:06      6\n",
       " DiarioLaHora      2017-05-04 09:30:26   2017-07-25 10:00:47      4\n",
       " DiarioOvalleHoy   2017-11-02 11:10:48   2017-11-02 11:10:48      1\n",
       " DiarioPaillaco    2017-05-15 17:38:44   2017-07-31 14:59:06      3\n",
       " DigitalFmChile    2017-03-24 23:48:02   2018-01-10 19:49:44      7\n",
       " ELCLARINDECHILE   2017-07-15 11:37:17   2018-02-24 22:57:43      3\n",
       " EYN_ELMERCURIO    2017-02-17 13:16:30   2017-08-11 14:13:47      5\n",
       " ElAriqueno        2017-06-01 21:11:05   2017-11-12 09:43:47      3\n",
       " ElBoyaldia        2017-02-23 18:43:36   2017-03-31 17:36:11      3\n",
       " ElDeportivoLT     2018-02-12 16:00:06   2018-04-16 08:46:35      5\n",
       " ElLongino         2017-05-31 11:34:17   2017-07-24 18:47:18      2\n",
       " ElPeriodista      2017-06-01 20:59:48   2017-11-29 20:57:41      4\n",
       " El_Ciudadano      2017-02-01 13:20:23   2018-04-18 09:01:32     37\n",
       " Elregionalcl      2017-03-21 03:36:25   2017-08-30 00:16:22     21\n",
       " Elvacanudo        2017-02-23 18:29:12   2018-03-14 20:03:09      4\n",
       " EnLineaMaule      2017-03-24 12:19:13   2017-07-25 07:15:05      4\n",
       "...                                 ...                   ...   ...\n",
       " pinguinodiario    2017-03-28 20:20:07   2018-02-20 11:40:05     12\n",
       " pulso_tw          2017-02-17 16:25:15   2018-02-07 11:24:55     11\n",
       " radiomaray        2017-03-21 09:29:44   2018-01-11 09:08:29     12\n",
       " radiozero977      2017-02-15 18:20:01   2017-12-14 16:00:01      7\n",
       " redcomunales      2017-04-11 09:59:14   2017-11-02 11:27:17      4\n",
       " redpanguipulli    2017-07-31 16:50:51   2017-08-09 09:40:02      2\n",
       " revistaQP         2017-06-16 09:01:15   2017-06-25 18:00:01      3\n",
       " revistacapital    2017-02-01 13:00:44   2018-01-08 15:10:59     10\n",
       " rioenlinea        2017-02-28 08:00:28   2017-08-13 09:15:04      2\n",
       " rtierrabella      2017-03-11 21:00:02   2017-08-28 10:00:03      5\n",
       " sancarlosonline   2017-05-20 13:28:54   2018-03-22 10:49:00      4\n",
       " sexta_noticias    2017-07-12 08:32:06   2017-11-02 13:02:36      5\n",
       " soyantofagasta    2018-04-13 16:07:00   2018-04-13 16:07:00      1\n",
       " soychilecl        2017-03-24 23:48:02   2018-01-10 19:49:44      7\n",
       " soychillan        2018-03-20 14:12:31   2018-03-20 14:12:31      1\n",
       " soychiloe         2017-06-19 16:17:55   2017-06-19 16:17:55      1\n",
       " soycopiapo        2018-03-17 09:22:34   2018-03-17 09:22:34      1\n",
       " soyosorno         2017-03-21 11:45:57   2017-12-07 17:20:08      3\n",
       " soypuertomontt    2017-05-06 16:47:33   2018-02-05 14:00:42      4\n",
       " soyvalparaiso     2017-11-28 12:56:22   2017-11-28 12:56:22      1\n",
       " tentos            2017-03-24 23:01:22   2017-09-20 18:52:44      2\n",
       " thecliniccl       2017-03-09 18:40:56   2018-01-28 19:32:14     19\n",
       " tv_Amaro          2017-05-08 08:03:40   2017-09-25 23:00:28      2\n",
       " tvmaulinos        2017-07-09 11:25:56   2018-04-03 16:19:49      2\n",
       " tvosanvicente     2017-07-28 17:30:02   2017-08-24 18:30:12      2\n",
       " uchileradio       2017-04-02 13:00:18   2017-11-08 07:20:00     11\n",
       " ucvradio          2017-08-18 07:30:13   2017-12-02 18:05:07      5\n",
       " verdecercatv      2017-06-29 09:44:48   2017-10-31 10:23:01      3\n",
       " vlanoticia        2017-04-06 19:28:00   2017-11-03 12:13:25      3\n",
       " vlnradio          2018-04-09 15:09:32   2018-04-09 15:09:32      1\n",
       "\n",
       "[172 rows x 3 columns]"
      ]
     },
     "execution_count": 33,
     "metadata": {},
     "output_type": "execute_result"
    }
   ],
   "source": [
    "# Periodo de tiempo noticias por medio\n",
    "df_cambioclim.groupby('media').agg({'datetime':['min', 'max', 'count']})\n"
   ]
  },
  {
   "cell_type": "code",
   "execution_count": 64,
   "metadata": {},
   "outputs": [
    {
     "data": {
      "text/plain": [
       "Timedelta('460 days 03:15:46')"
      ]
     },
     "execution_count": 64,
     "metadata": {},
     "output_type": "execute_result"
    }
   ],
   "source": [
    "tiempos = df_cambioclim['datetime'] = df_cambioclim['datetime'].astype('datetime64[ns]')\n",
    "periodo_tiempo = tiempos.max() - df_cambioclim.datetime.min()\n",
    "periodo_tiempo"
   ]
  },
  {
   "cell_type": "markdown",
   "metadata": {},
   "source": [
    "<h2> Primer análisis de tópicos </h2>"
   ]
  },
  {
   "cell_type": "code",
   "execution_count": 8,
   "metadata": {},
   "outputs": [
    {
     "name": "stdout",
     "output_type": "stream",
     "text": [
      "[nltk_data] Downloading package stopwords to /home/gauss/nltk_data...\n",
      "[nltk_data]   Package stopwords is already up-to-date!\n",
      "[nltk_data] Downloading package punkt to /home/gauss/nltk_data...\n",
      "[nltk_data]   Package punkt is already up-to-date!\n"
     ]
    }
   ],
   "source": [
    "# Configurando diccionarios, tokenizer... con NLTK\n",
    "\n",
    "import nltk\n",
    "nltk.download('stopwords')\n",
    "nltk.download('punkt')\n",
    "# load nltk's SnowballStemmer as variabled 'stemmer'\n",
    "from nltk.stem.snowball import SnowballStemmer\n",
    "from sklearn.metrics import adjusted_rand_score\n",
    "\n",
    "stemmer = SnowballStemmer(\"spanish\")\n",
    "\n",
    "# load nltk's Spanish stopwords as variable called 'stopwords'\n",
    "stopwords = nltk.corpus.stopwords.words('spanish')\n",
    "#stopwords.append('ejemplo')\n",
    "\n",
    "\n",
    "# here I define a tokenizer and stemmer which returns the set of stems in the text that it is passed\n",
    "def tokenize_and_stem(text):\n",
    "    # first tokenize by sentence, then by word to ensure that punctuation is caught as it's own token\n",
    "    tokens = [word for sent in nltk.sent_tokenize(text) for word in nltk.word_tokenize(sent)]\n",
    "    filtered_tokens = []\n",
    "    # filter out any tokens not containing letters (e.g., numeric tokens, raw punctuation)\n",
    "    for token in tokens:\n",
    "        if re.search('[a-zA-Z]', token):\n",
    "            filtered_tokens.append(token)\n",
    "    stems = [stemmer.stem(t) for t in filtered_tokens]\n",
    "    return stems\n",
    "\n",
    "\n",
    "def tokenize_only(text):\n",
    "    # first tokenize by sentence, then by word to ensure that punctuation is caught as it's own token\n",
    "    tokens = [word.lower() for sent in nltk.sent_tokenize(text) for word in nltk.word_tokenize(sent)]\n",
    "    filtered_tokens = []\n",
    "    # filter out any tokens not containing letters (e.g., numeric tokens, raw punctuation)\n",
    "    for token in tokens:\n",
    "        if re.search('[a-zA-Z]', token):\n",
    "            filtered_tokens.append(token)\n",
    "    return filtered_tokens\n",
    "\n",
    "#Aplicando Modelos Probabilistas de Tópicos y LDA\n",
    "from sklearn.decomposition import LatentDirichletAllocation\n",
    "import re\n",
    "from sklearn.feature_extraction.text import TfidfVectorizer, CountVectorizer\n",
    "from sklearn.metrics import adjusted_rand_score\n",
    "\n",
    "def print_top_words(model, feature_names, n_top_words):\n",
    "    for topic_idx, topic in enumerate(model.components_):\n",
    "        message = \"Tópico #%d: \" % topic_idx\n",
    "        message += \" \".join([feature_names[i]\n",
    "                             for i in topic.argsort()[:-n_top_words - 1:-1]])\n",
    "        print(message)\n",
    "    print()\n"
   ]
  },
  {
   "cell_type": "markdown",
   "metadata": {},
   "source": [
    "<h3>Obteniendo número óptimo de tópicos para LDA (con diccionario y tokenizer NLTK)</h3>"
   ]
  },
  {
   "cell_type": "code",
   "execution_count": 9,
   "metadata": {
    "scrolled": true
   },
   "outputs": [
    {
     "data": {
      "image/png": "[encoded data removed]",
      "text/plain": [
       "<matplotlib.figure.Figure at 0x7fe39724dbe0>"
      ]
     },
     "metadata": {},
     "output_type": "display_data"
    }
   ],
   "source": [
    "#Aplicando Modelos Probabilistas de Tópicos y LDA\n",
    "from sklearn.decomposition import LatentDirichletAllocation\n",
    "import re\n",
    "from sklearn.feature_extraction.text import TfidfVectorizer, CountVectorizer\n",
    "from sklearn.metrics import adjusted_rand_score\n",
    "\n",
    "def print_top_words(model, feature_names, n_top_words):\n",
    "    for topic_idx, topic in enumerate(model.components_):\n",
    "        message = \"Tópico #%d: \" % topic_idx\n",
    "        message += \" \".join([feature_names[i]\n",
    "                             for i in topic.argsort()[:-n_top_words - 1:-1]])\n",
    "        print(message)\n",
    "    print()\n",
    "\n",
    "stopwords = nltk.corpus.stopwords.words('spanish')\n",
    "\n",
    "tf_vectorizer = TfidfVectorizer(max_df=0.8, min_df=7,\n",
    "                                stop_words=stopwords,tokenizer=tokenize_only, ngram_range=(1,1))\n",
    "# ej: \"cambio climatico\" esta en  todos los documentos (en  el 100% o 1.0) por eso no aparece en los topicos\n",
    "\n",
    "tf = tf_vectorizer.fit_transform(docs)\n",
    "diccionario= tf_vectorizer.get_feature_names()\n",
    "\n",
    "num_k = range(1, 16)\n",
    "perple = []\n",
    "\n",
    "for k in num_k:\n",
    "    lda = LatentDirichletAllocation(n_components=k, max_iter=10,\n",
    "                                learning_method='online',\n",
    "                                learning_offset=10.,\n",
    "                                random_state=0)\n",
    "\n",
    "    # Fit model to samples\n",
    "    lda.fit(tf)\n",
    "\n",
    "    # Append the perplexity to the list of perplexities\n",
    "    perple.append(lda.perplexity(tf))\n",
    "\n",
    "\n",
    "# Plot ks vs perplexity\n",
    "plt.plot(num_k, perple, '-o')\n",
    "plt.xlabel('number of topics')\n",
    "plt.ylabel('perplexity')\n",
    "plt.xticks(num_k)\n",
    "plt.show()\n",
    "\n"
   ]
  },
  {
   "cell_type": "markdown",
   "metadata": {},
   "source": [
    "<p>Se selecciona número de tópicos: <b>10</b>.</p>\n",
    "<h3>Obtención de los tópicos con LDA</h3>"
   ]
  },
  {
   "cell_type": "code",
   "execution_count": 10,
   "metadata": {},
   "outputs": [
    {
     "name": "stdout",
     "output_type": "stream",
     "text": [
      "\n",
      "Tópicos en el modelo LDA:\n",
      "\n",
      "Topic #0: chile hace país medio acuerdo agua años región países global desarrollo mundo\n",
      "Topic #1: servicio boscosos velar mantención deberá recuperación asumir urgencia prevenir marcados catástrofes cuidado\n",
      "Topic #2: conduce duna.cl duna maria piso tras santa suministro providencia avenida acerca síguenos\n",
      "Topic #3: hora wwf planeta chile luces edificios señal acción marzo sábado campaña adoptando\n",
      "Topic #4: newsletter ciudad emol soychile.cl inmobiliaria guioteca farox contáctenos elige hoyxhoy.cl ¿cuándo entérate\n",
      "Topic #5: minutos hace hawking stephen chile información acuerdo educación twitter cualquier planeta mar\n",
      "Topic #6: diarios innovagro adecuadamente manejos comunales asimilar alero rumberg extranjera notablemente materializarse jurado\n",
      "Topic #7: trump acuerdo unidos parís presidente decisión donald obama estadounidense eeuu blanca papa\n",
      "Topic #8: loading working mayo mostrador sorprendió malas alarma podcast operativo cosechas avión subir\n",
      "Topic #9: energía chile región país gore global trump encuentro incómoda acuerdo presidente antártida\n",
      "\n"
     ]
    }
   ],
   "source": [
    "noftopics = 10\n",
    "\n",
    "#Estimación de LDA con Bayes Variacional\n",
    "lda = LatentDirichletAllocation(n_components=noftopics, max_iter=10,\n",
    "                                learning_method='online',\n",
    "                                learning_offset=10.,\n",
    "                                random_state=0)\n",
    "# Fit model to samples\n",
    "lda.fit(tf)\n",
    "#Cálculo de índice de ajuste de los datos\n",
    "#print(lda.perplexity(tf))\n",
    "print(\"\\nTópicos en el modelo LDA:\\n\")\n",
    "print_top_words(lda, diccionario, 12)"
   ]
  },
  {
   "cell_type": "markdown",
   "metadata": {},
   "source": [
    "<h2>Resultados del primer análisis de tópicos</h2>"
   ]
  },
  {
   "cell_type": "markdown",
   "metadata": {},
   "source": [
    "<h3>Distribución de tópicos en los documentos (noticias)</h3>"
   ]
  },
  {
   "cell_type": "code",
   "execution_count": 42,
   "metadata": {},
   "outputs": [
    {
     "data": {
      "image/png": "[encoded data removed]",
      "text/plain": [
       "<matplotlib.figure.Figure at 0x7f03de2dd828>"
      ]
     },
     "metadata": {},
     "output_type": "display_data"
    },
    {
     "data": {
      "image/png": "[encoded data removed]",
      "text/plain": [
       "<matplotlib.figure.Figure at 0x7f03deabca90>"
      ]
     },
     "metadata": {},
     "output_type": "display_data"
    },
    {
     "data": {
      "image/png": "[encoded data removed]",
      "text/plain": [
       "<matplotlib.figure.Figure at 0x7f03de873588>"
      ]
     },
     "metadata": {},
     "output_type": "display_data"
    }
   ],
   "source": [
    "#Generando algunos gráficos de los resultados\n",
    "from matplotlib.pylab import hist, show\n",
    "import seaborn as sns\n",
    "\n",
    "y=lda.fit_transform(tf)\n",
    "\n",
    "#distribución de tópicos en todos los documentos\n",
    "dist = sum(y)/len(docs)\n",
    "w=np.arange(0,noftopics)\n",
    "plt.bar(w,height=dist,alpha=0.5,tick_label=w)\n",
    "plt.title('Distribución en todas las noticias')\n",
    "plt.xlabel('Tópico')\n",
    "plt.ylabel('Frecuencia')\n",
    "show()\n",
    "\n",
    "#distribución de tópicos en el documento 200\n",
    "plt.bar(w,height=y[200],alpha=0.5,tick_label=w)\n",
    "plt.title('Distribución en la noticia 200')\n",
    "plt.xlabel('Tópico')\n",
    "plt.ylabel('Frecuencia')\n",
    "show()\n",
    "\n",
    "#distribución de tópicos en el documento 800\n",
    "plt.bar(w,height=y[800],alpha=0.5,tick_label=w)\n",
    "plt.title('Distribución en la noticia 800')\n",
    "plt.xlabel('Tópico')\n",
    "plt.ylabel('Frecuencia')\n",
    "show()"
   ]
  },
  {
   "cell_type": "markdown",
   "metadata": {},
   "source": [
    "<h3>Distribución de palabras por tópico (valores no normalizados)</h3>"
   ]
  },
  {
   "cell_type": "code",
   "execution_count": 62,
   "metadata": {},
   "outputs": [
    {
     "data": {
      "image/png": "[encoded data removed]",
      "text/plain": [
       "<matplotlib.figure.Figure at 0x7f03de256da0>"
      ]
     },
     "metadata": {},
     "output_type": "display_data"
    },
    {
     "data": {
      "image/png": "[encoded data removed]",
      "text/plain": [
       "<matplotlib.figure.Figure at 0x7f03de27c160>"
      ]
     },
     "metadata": {},
     "output_type": "display_data"
    },
    {
     "data": {
      "image/png": "[encoded data removed]",
      "text/plain": [
       "<matplotlib.figure.Figure at 0x7f03de9940b8>"
      ]
     },
     "metadata": {},
     "output_type": "display_data"
    },
    {
     "data": {
      "image/png": "[encoded data removed]",
      "text/plain": [
       "<matplotlib.figure.Figure at 0x7f03de85be10>"
      ]
     },
     "metadata": {},
     "output_type": "display_data"
    },
    {
     "data": {
      "image/png": "[encoded data removed]",
      "text/plain": [
       "<matplotlib.figure.Figure at 0x7f03de17c5c0>"
      ]
     },
     "metadata": {},
     "output_type": "display_data"
    },
    {
     "data": {
      "image/png": "[encoded data removed]",
      "text/plain": [
       "<matplotlib.figure.Figure at 0x7f03de0431d0>"
      ]
     },
     "metadata": {},
     "output_type": "display_data"
    },
    {
     "data": {
      "image/png": "[encoded data removed]",
      "text/plain": [
       "<matplotlib.figure.Figure at 0x7f03de297160>"
      ]
     },
     "metadata": {},
     "output_type": "display_data"
    },
    {
     "data": {
      "image/png": "[encoded data removed]",
      "text/plain": [
       "<matplotlib.figure.Figure at 0x7f03de06f9b0>"
      ]
     },
     "metadata": {},
     "output_type": "display_data"
    },
    {
     "data": {
      "image/png": "[encoded data removed]",
      "text/plain": [
       "<matplotlib.figure.Figure at 0x7f03de12d550>"
      ]
     },
     "metadata": {},
     "output_type": "display_data"
    },
    {
     "data": {
      "image/png": "[encoded data removed]",
      "text/plain": [
       "<matplotlib.figure.Figure at 0x7f03df2c7b70>"
      ]
     },
     "metadata": {},
     "output_type": "display_data"
    }
   ],
   "source": [
    "#Distribución de palabras por tópico\n",
    "n_top_words=12\n",
    "numo =np.arange(0,n_top_words)\n",
    "\n",
    "# components_: Variational parameters for topic word distribution. \n",
    "# Since the complete conditional for topic word distribution is \n",
    "# a Dirichlet, components_[i, j] can be viewed as pseudocount \n",
    "# that represents the number of times word j was assigned to topic i. \n",
    "\n",
    "#for idx,topic in enumerate(lda.components_ / lda.components_.sum(axis=1)[:, np.newaxis]):\n",
    "for idx,topic in enumerate(lda.components_):\n",
    "    d =[]\n",
    "    s = []\n",
    "    for i in topic.argsort()[:-n_top_words - 1:-1]:\n",
    "          s.append(diccionario[i])\n",
    "          d.append(topic[i])\n",
    "          #print(topic[i])\n",
    "    \n",
    "    plt.barh(numo,width=d,alpha=0.5,tick_label=s)\n",
    "    #plt.xticks(range(int(min(d)), int(max(d))+1 ))\n",
    "    plt.title(\"Tópico \" + str(idx))\n",
    "    show()"
   ]
  },
  {
   "cell_type": "markdown",
   "metadata": {},
   "source": [
    "<h2> Preprocesamiento (filtrado) de datos </h2>\n",
    "<p> Se hará una depuración de los datos, principalmente eliminando repeticiones (noticias repetidas) y noticias que podrían no tener relación con el tema (aquellas en que la frase \"cambio climático\" aparece como título de otra noticia).</p>\n",
    "- Eliminar aquellas noticias repetidas.\n",
    "- Eliminar noticias republicadas (comparar los primeros 200 caracteres).\n",
    "- Eliminar los registros en que la frecuencia de las palabras \"climático\" es menor a 2."
   ]
  },
  {
   "cell_type": "code",
   "execution_count": 18,
   "metadata": {},
   "outputs": [
    {
     "data": {
      "text/plain": [
       "1108"
      ]
     },
     "execution_count": 18,
     "metadata": {},
     "output_type": "execute_result"
    }
   ],
   "source": [
    "# Eliminar noticias repetidas (misma noticias de medios relacionados entre si)\n",
    "df_cambioclim2 = df_cambioclim.copy()\n",
    "df_cambioclim2.sort_values('media', inplace=True) # ordenamos los valores\n",
    "df_cambioclim2.drop_duplicates('body', keep=\"last\", inplace=True) # Eliminamos los duplicados\n",
    "df_cambioclim2.sort_index(inplace=True) \n",
    "len(df_cambioclim2) # Verificamos el largo del nuevo dataframe"
   ]
  },
  {
   "cell_type": "code",
   "execution_count": 19,
   "metadata": {},
   "outputs": [],
   "source": [
    "# Eliminar noticias repetidas comparando los primeros 200 caracteres \n",
    "# Eliminar noticias con frecuencia de la palabra climático menor a 2\n",
    "#df_cctemp = pd.DataFrame(columns=(df_cambioclim2.columns.values.tolist()))\n",
    "anterior = \"temporal\"\n",
    "frames = []\n",
    "for row, values in df_cambioclim2.iterrows():\n",
    "    cuenta = values.body.count(\"climático\") + values.body.count(\"climatico\")\n",
    "    if values.body[0:200]!=anterior and cuenta > 1:\n",
    "        frames.append(values)\n",
    "    anterior = values.body[0:200]\n",
    "#print(len(frames))\n",
    "df_cambioclim2 = pd.DataFrame.from_records(frames)\n"
   ]
  },
  {
   "cell_type": "markdown",
   "metadata": {},
   "source": [
    "<h2>  Caracterización del conjunto de datos filtrados </h2>"
   ]
  },
  {
   "cell_type": "markdown",
   "metadata": {},
   "source": [
    "- Los datos se componen de 781 observaciones tomadas durante un periodo de tiempo de 460 días 3 horas y 15 minutos, en un universo de 127 distintos medios de comunicación. \n",
    "- Respecto a las publicaciones por cada medio tienen frecuencias que van desde 1 a 74 y una media de publicaciones de 6,15.\n",
    "- El largo promedio de cada artículo es de 2.967 caracteres, con largos entre 255 y  12.555 caracteres."
   ]
  },
  {
   "cell_type": "code",
   "execution_count": 20,
   "metadata": {},
   "outputs": [
    {
     "name": "stdout",
     "output_type": "stream",
     "text": [
      "781\n"
     ]
    },
    {
     "data": {
      "text/html": [
       "<div>\n",
       "<table border=\"1\" class=\"dataframe\">\n",
       "  <thead>\n",
       "    <tr style=\"text-align: right;\">\n",
       "      <th></th>\n",
       "      <th>media</th>\n",
       "      <th>nofnews</th>\n",
       "    </tr>\n",
       "  </thead>\n",
       "  <tbody>\n",
       "    <tr>\n",
       "      <th>97</th>\n",
       "      <td>latercera</td>\n",
       "      <td>74</td>\n",
       "    </tr>\n",
       "    <tr>\n",
       "      <th>0</th>\n",
       "      <td>24HorasTVN</td>\n",
       "      <td>34</td>\n",
       "    </tr>\n",
       "    <tr>\n",
       "      <th>20</th>\n",
       "      <td>El_Ciudadano</td>\n",
       "      <td>34</td>\n",
       "    </tr>\n",
       "    <tr>\n",
       "      <th>80</th>\n",
       "      <td>elmostrador</td>\n",
       "      <td>32</td>\n",
       "    </tr>\n",
       "    <tr>\n",
       "      <th>57</th>\n",
       "      <td>biobio</td>\n",
       "      <td>31</td>\n",
       "    </tr>\n",
       "    <tr>\n",
       "      <th>10</th>\n",
       "      <td>Cronica_Digital</td>\n",
       "      <td>26</td>\n",
       "    </tr>\n",
       "    <tr>\n",
       "      <th>68</th>\n",
       "      <td>el_dinamo</td>\n",
       "      <td>22</td>\n",
       "    </tr>\n",
       "    <tr>\n",
       "      <th>1</th>\n",
       "      <td>AQUASocial</td>\n",
       "      <td>21</td>\n",
       "    </tr>\n",
       "    <tr>\n",
       "      <th>101</th>\n",
       "      <td>msncl</td>\n",
       "      <td>20</td>\n",
       "    </tr>\n",
       "    <tr>\n",
       "      <th>119</th>\n",
       "      <td>thecliniccl</td>\n",
       "      <td>17</td>\n",
       "    </tr>\n",
       "    <tr>\n",
       "      <th>40</th>\n",
       "      <td>PublimetroChile</td>\n",
       "      <td>17</td>\n",
       "    </tr>\n",
       "    <tr>\n",
       "      <th>102</th>\n",
       "      <td>nacioncl</td>\n",
       "      <td>14</td>\n",
       "    </tr>\n",
       "    <tr>\n",
       "      <th>48</th>\n",
       "      <td>T13</td>\n",
       "      <td>13</td>\n",
       "    </tr>\n",
       "    <tr>\n",
       "      <th>26</th>\n",
       "      <td>GreenpeaceCL</td>\n",
       "      <td>12</td>\n",
       "    </tr>\n",
       "    <tr>\n",
       "      <th>34</th>\n",
       "      <td>LaSerenaOnline</td>\n",
       "      <td>12</td>\n",
       "    </tr>\n",
       "    <tr>\n",
       "      <th>21</th>\n",
       "      <td>Elregionalcl</td>\n",
       "      <td>12</td>\n",
       "    </tr>\n",
       "    <tr>\n",
       "      <th>7</th>\n",
       "      <td>CNNChile</td>\n",
       "      <td>12</td>\n",
       "    </tr>\n",
       "    <tr>\n",
       "      <th>108</th>\n",
       "      <td>pulso_tw</td>\n",
       "      <td>11</td>\n",
       "    </tr>\n",
       "    <tr>\n",
       "      <th>123</th>\n",
       "      <td>uchileradio</td>\n",
       "      <td>11</td>\n",
       "    </tr>\n",
       "    <tr>\n",
       "      <th>56</th>\n",
       "      <td>araucanianews</td>\n",
       "      <td>10</td>\n",
       "    </tr>\n",
       "    <tr>\n",
       "      <th>9</th>\n",
       "      <td>Cooperativa</td>\n",
       "      <td>10</td>\n",
       "    </tr>\n",
       "    <tr>\n",
       "      <th>112</th>\n",
       "      <td>revistacapital</td>\n",
       "      <td>9</td>\n",
       "    </tr>\n",
       "    <tr>\n",
       "      <th>109</th>\n",
       "      <td>radiomaray</td>\n",
       "      <td>9</td>\n",
       "    </tr>\n",
       "    <tr>\n",
       "      <th>58</th>\n",
       "      <td>bionoticiascl</td>\n",
       "      <td>9</td>\n",
       "    </tr>\n",
       "    <tr>\n",
       "      <th>60</th>\n",
       "      <td>chilevision</td>\n",
       "      <td>9</td>\n",
       "    </tr>\n",
       "    <tr>\n",
       "      <th>36</th>\n",
       "      <td>MQLTV</td>\n",
       "      <td>9</td>\n",
       "    </tr>\n",
       "    <tr>\n",
       "      <th>94</th>\n",
       "      <td>ladiscusioncl</td>\n",
       "      <td>9</td>\n",
       "    </tr>\n",
       "    <tr>\n",
       "      <th>50</th>\n",
       "      <td>Tele13_Radio</td>\n",
       "      <td>8</td>\n",
       "    </tr>\n",
       "    <tr>\n",
       "      <th>91</th>\n",
       "      <td>eltipografo</td>\n",
       "      <td>8</td>\n",
       "    </tr>\n",
       "    <tr>\n",
       "      <th>73</th>\n",
       "      <td>eldesconcierto</td>\n",
       "      <td>8</td>\n",
       "    </tr>\n",
       "    <tr>\n",
       "      <th>...</th>\n",
       "      <td>...</td>\n",
       "      <td>...</td>\n",
       "    </tr>\n",
       "    <tr>\n",
       "      <th>14</th>\n",
       "      <td>DiarioOvalleHoy</td>\n",
       "      <td>1</td>\n",
       "    </tr>\n",
       "    <tr>\n",
       "      <th>37</th>\n",
       "      <td>Mapuexpress</td>\n",
       "      <td>1</td>\n",
       "    </tr>\n",
       "    <tr>\n",
       "      <th>5</th>\n",
       "      <td>AtacamaNoticias</td>\n",
       "      <td>1</td>\n",
       "    </tr>\n",
       "    <tr>\n",
       "      <th>4</th>\n",
       "      <td>AoLaonline</td>\n",
       "      <td>1</td>\n",
       "    </tr>\n",
       "    <tr>\n",
       "      <th>23</th>\n",
       "      <td>Estrategiacl</td>\n",
       "      <td>1</td>\n",
       "    </tr>\n",
       "    <tr>\n",
       "      <th>117</th>\n",
       "      <td>soychilecl</td>\n",
       "      <td>1</td>\n",
       "    </tr>\n",
       "    <tr>\n",
       "      <th>3</th>\n",
       "      <td>AntofagastaTV</td>\n",
       "      <td>1</td>\n",
       "    </tr>\n",
       "    <tr>\n",
       "      <th>28</th>\n",
       "      <td>InforiosCL</td>\n",
       "      <td>1</td>\n",
       "    </tr>\n",
       "    <tr>\n",
       "      <th>30</th>\n",
       "      <td>LVZRWeb</td>\n",
       "      <td>1</td>\n",
       "    </tr>\n",
       "    <tr>\n",
       "      <th>31</th>\n",
       "      <td>LaNoticiaOn</td>\n",
       "      <td>1</td>\n",
       "    </tr>\n",
       "    <tr>\n",
       "      <th>33</th>\n",
       "      <td>LaRedTV</td>\n",
       "      <td>1</td>\n",
       "    </tr>\n",
       "    <tr>\n",
       "      <th>84</th>\n",
       "      <td>elparadiario14</td>\n",
       "      <td>1</td>\n",
       "    </tr>\n",
       "    <tr>\n",
       "      <th>44</th>\n",
       "      <td>RadioSago</td>\n",
       "      <td>1</td>\n",
       "    </tr>\n",
       "    <tr>\n",
       "      <th>38</th>\n",
       "      <td>PrensaChiloe</td>\n",
       "      <td>1</td>\n",
       "    </tr>\n",
       "    <tr>\n",
       "      <th>98</th>\n",
       "      <td>losandeshoytwit</td>\n",
       "      <td>1</td>\n",
       "    </tr>\n",
       "    <tr>\n",
       "      <th>79</th>\n",
       "      <td>elmorrocotudo</td>\n",
       "      <td>1</td>\n",
       "    </tr>\n",
       "    <tr>\n",
       "      <th>76</th>\n",
       "      <td>elhurtadino</td>\n",
       "      <td>1</td>\n",
       "    </tr>\n",
       "    <tr>\n",
       "      <th>72</th>\n",
       "      <td>eldefinido</td>\n",
       "      <td>1</td>\n",
       "    </tr>\n",
       "    <tr>\n",
       "      <th>93</th>\n",
       "      <td>la7talca</td>\n",
       "      <td>1</td>\n",
       "    </tr>\n",
       "    <tr>\n",
       "      <th>96</th>\n",
       "      <td>laprensacurico</td>\n",
       "      <td>1</td>\n",
       "    </tr>\n",
       "    <tr>\n",
       "      <th>62</th>\n",
       "      <td>cronicacurico</td>\n",
       "      <td>1</td>\n",
       "    </tr>\n",
       "    <tr>\n",
       "      <th>100</th>\n",
       "      <td>mauriciohofmann</td>\n",
       "      <td>1</td>\n",
       "    </tr>\n",
       "    <tr>\n",
       "      <th>39</th>\n",
       "      <td>Publi_Emprende</td>\n",
       "      <td>1</td>\n",
       "    </tr>\n",
       "    <tr>\n",
       "      <th>52</th>\n",
       "      <td>TerraChile</td>\n",
       "      <td>1</td>\n",
       "    </tr>\n",
       "    <tr>\n",
       "      <th>51</th>\n",
       "      <td>Temucodiario</td>\n",
       "      <td>1</td>\n",
       "    </tr>\n",
       "    <tr>\n",
       "      <th>47</th>\n",
       "      <td>SemanarioLocal</td>\n",
       "      <td>1</td>\n",
       "    </tr>\n",
       "    <tr>\n",
       "      <th>105</th>\n",
       "      <td>panguipullinoti</td>\n",
       "      <td>1</td>\n",
       "    </tr>\n",
       "    <tr>\n",
       "      <th>83</th>\n",
       "      <td>elovallino</td>\n",
       "      <td>1</td>\n",
       "    </tr>\n",
       "    <tr>\n",
       "      <th>41</th>\n",
       "      <td>RADIONONGUEN</td>\n",
       "      <td>1</td>\n",
       "    </tr>\n",
       "    <tr>\n",
       "      <th>63</th>\n",
       "      <td>ddivisadero</td>\n",
       "      <td>1</td>\n",
       "    </tr>\n",
       "  </tbody>\n",
       "</table>\n",
       "<p>127 rows × 2 columns</p>\n",
       "</div>"
      ],
      "text/plain": [
       "                 media  nofnews\n",
       "97          latercera        74\n",
       "0          24HorasTVN        34\n",
       "20       El_Ciudadano        34\n",
       "80        elmostrador        32\n",
       "57             biobio        31\n",
       "10    Cronica_Digital        26\n",
       "68          el_dinamo        22\n",
       "1          AQUASocial        21\n",
       "101             msncl        20\n",
       "119       thecliniccl        17\n",
       "40    PublimetroChile        17\n",
       "102          nacioncl        14\n",
       "48                T13        13\n",
       "26       GreenpeaceCL        12\n",
       "34     LaSerenaOnline        12\n",
       "21       Elregionalcl        12\n",
       "7            CNNChile        12\n",
       "108          pulso_tw        11\n",
       "123       uchileradio        11\n",
       "56      araucanianews        10\n",
       "9         Cooperativa        10\n",
       "112    revistacapital         9\n",
       "109        radiomaray         9\n",
       "58      bionoticiascl         9\n",
       "60        chilevision         9\n",
       "36              MQLTV         9\n",
       "94      ladiscusioncl         9\n",
       "50       Tele13_Radio         8\n",
       "91        eltipografo         8\n",
       "73     eldesconcierto         8\n",
       "..                 ...      ...\n",
       "14    DiarioOvalleHoy         1\n",
       "37        Mapuexpress         1\n",
       "5     AtacamaNoticias         1\n",
       "4          AoLaonline         1\n",
       "23       Estrategiacl         1\n",
       "117        soychilecl         1\n",
       "3       AntofagastaTV         1\n",
       "28         InforiosCL         1\n",
       "30            LVZRWeb         1\n",
       "31        LaNoticiaOn         1\n",
       "33            LaRedTV         1\n",
       "84     elparadiario14         1\n",
       "44          RadioSago         1\n",
       "38       PrensaChiloe         1\n",
       "98    losandeshoytwit         1\n",
       "79      elmorrocotudo         1\n",
       "76        elhurtadino         1\n",
       "72         eldefinido         1\n",
       "93           la7talca         1\n",
       "96     laprensacurico         1\n",
       "62      cronicacurico         1\n",
       "100   mauriciohofmann         1\n",
       "39     Publi_Emprende         1\n",
       "52         TerraChile         1\n",
       "51       Temucodiario         1\n",
       "47     SemanarioLocal         1\n",
       "105   panguipullinoti         1\n",
       "83         elovallino         1\n",
       "41       RADIONONGUEN         1\n",
       "63        ddivisadero         1\n",
       "\n",
       "[127 rows x 2 columns]"
      ]
     },
     "execution_count": 20,
     "metadata": {},
     "output_type": "execute_result"
    }
   ],
   "source": [
    "print(len(df_cambioclim2)) # Verificamos el largo del nuevo dataframe\n",
    "\n",
    "publicacionesxmedio = df_cambioclim2.groupby(\"media\").size().to_frame(\"nofnews\").reset_index().sort_values(\"nofnews\", ascending=False)\n",
    "publicacionesxmedio"
   ]
  },
  {
   "cell_type": "code",
   "execution_count": 71,
   "metadata": {},
   "outputs": [
    {
     "data": {
      "text/html": [
       "<div>\n",
       "<table border=\"1\" class=\"dataframe\">\n",
       "  <thead>\n",
       "    <tr style=\"text-align: right;\">\n",
       "      <th></th>\n",
       "      <th>nofnews</th>\n",
       "    </tr>\n",
       "  </thead>\n",
       "  <tbody>\n",
       "    <tr>\n",
       "      <th>count</th>\n",
       "      <td>127.000000</td>\n",
       "    </tr>\n",
       "    <tr>\n",
       "      <th>mean</th>\n",
       "      <td>6.149606</td>\n",
       "    </tr>\n",
       "    <tr>\n",
       "      <th>std</th>\n",
       "      <td>9.144413</td>\n",
       "    </tr>\n",
       "    <tr>\n",
       "      <th>min</th>\n",
       "      <td>1.000000</td>\n",
       "    </tr>\n",
       "    <tr>\n",
       "      <th>25%</th>\n",
       "      <td>2.000000</td>\n",
       "    </tr>\n",
       "    <tr>\n",
       "      <th>50%</th>\n",
       "      <td>3.000000</td>\n",
       "    </tr>\n",
       "    <tr>\n",
       "      <th>75%</th>\n",
       "      <td>6.000000</td>\n",
       "    </tr>\n",
       "    <tr>\n",
       "      <th>max</th>\n",
       "      <td>74.000000</td>\n",
       "    </tr>\n",
       "  </tbody>\n",
       "</table>\n",
       "</div>"
      ],
      "text/plain": [
       "          nofnews\n",
       "count  127.000000\n",
       "mean     6.149606\n",
       "std      9.144413\n",
       "min      1.000000\n",
       "25%      2.000000\n",
       "50%      3.000000\n",
       "75%      6.000000\n",
       "max     74.000000"
      ]
     },
     "execution_count": 71,
     "metadata": {},
     "output_type": "execute_result"
    }
   ],
   "source": [
    "publicacionesxmedio.describe()"
   ]
  },
  {
   "cell_type": "code",
   "execution_count": 66,
   "metadata": {},
   "outputs": [
    {
     "data": {
      "text/html": [
       "<div>\n",
       "<table border=\"1\" class=\"dataframe\">\n",
       "  <thead>\n",
       "    <tr style=\"text-align: right;\">\n",
       "      <th></th>\n",
       "      <th>bodylen</th>\n",
       "    </tr>\n",
       "  </thead>\n",
       "  <tbody>\n",
       "    <tr>\n",
       "      <th>count</th>\n",
       "      <td>1235.000000</td>\n",
       "    </tr>\n",
       "    <tr>\n",
       "      <th>mean</th>\n",
       "      <td>2473.384615</td>\n",
       "    </tr>\n",
       "    <tr>\n",
       "      <th>std</th>\n",
       "      <td>1827.724567</td>\n",
       "    </tr>\n",
       "    <tr>\n",
       "      <th>min</th>\n",
       "      <td>237.000000</td>\n",
       "    </tr>\n",
       "    <tr>\n",
       "      <th>25%</th>\n",
       "      <td>1066.000000</td>\n",
       "    </tr>\n",
       "    <tr>\n",
       "      <th>50%</th>\n",
       "      <td>1956.000000</td>\n",
       "    </tr>\n",
       "    <tr>\n",
       "      <th>75%</th>\n",
       "      <td>3209.500000</td>\n",
       "    </tr>\n",
       "    <tr>\n",
       "      <th>max</th>\n",
       "      <td>12555.000000</td>\n",
       "    </tr>\n",
       "  </tbody>\n",
       "</table>\n",
       "</div>"
      ],
      "text/plain": [
       "            bodylen\n",
       "count   1235.000000\n",
       "mean    2473.384615\n",
       "std     1827.724567\n",
       "min      237.000000\n",
       "25%     1066.000000\n",
       "50%     1956.000000\n",
       "75%     3209.500000\n",
       "max    12555.000000"
      ]
     },
     "execution_count": 66,
     "metadata": {},
     "output_type": "execute_result"
    }
   ],
   "source": [
    "df_cc_bodylen.describe()"
   ]
  },
  {
   "cell_type": "code",
   "execution_count": 67,
   "metadata": {},
   "outputs": [
    {
     "data": {
      "text/plain": [
       "<matplotlib.text.Text at 0x7f03de314b38>"
      ]
     },
     "execution_count": 67,
     "metadata": {},
     "output_type": "execute_result"
    },
    {
     "data": {
      "image/png": "[encoded data removed]",
      "text/plain": [
       "<matplotlib.figure.Figure at 0x7f03de27ef60>"
      ]
     },
     "metadata": {},
     "output_type": "display_data"
    }
   ],
   "source": [
    "# Largo de noticias\n",
    "df_cc_bodylen = df_cambioclim2['body'].str.len().to_frame(\"bodylen\").sort_values(\"bodylen\", ascending=False)\n",
    "df_cc_bodylen.hist(column='bodylen', bins=20)\n",
    "plt.title('Largo de las noticias')\n",
    "plt.xlabel('Largo (caracteres)')\n",
    "plt.ylabel('Cantidad noticias')"
   ]
  },
  {
   "cell_type": "code",
   "execution_count": 86,
   "metadata": {},
   "outputs": [
    {
     "data": {
      "text/plain": [
       "Timedelta('460 days 03:15:46')"
      ]
     },
     "execution_count": 86,
     "metadata": {},
     "output_type": "execute_result"
    }
   ],
   "source": [
    "tiempos = df_cambioclim2['datetime'] = df_cambioclim2['datetime'].astype('datetime64[ns]')\n",
    "periodo_tiempo = tiempos.max() - df_cambioclim2.datetime.min()\n",
    "periodo_tiempo"
   ]
  },
  {
   "cell_type": "code",
   "execution_count": 56,
   "metadata": {},
   "outputs": [],
   "source": [
    "# Guardamos el nuevo conjunto de datos\n",
    "df_cambioclim2.to_csv('./data/cambio_climatico_filtrado.csv', sep ='|') #guarda como csv\n",
    "\n",
    "docs2 = df_cambioclim2[\"body\"].as_matrix()"
   ]
  },
  {
   "cell_type": "markdown",
   "metadata": {},
   "source": [
    "<h2> Análisis de tópicos con datos filtrados (con diccionario y tokenizer spaCy)</h2>"
   ]
  },
  {
   "cell_type": "code",
   "execution_count": 57,
   "metadata": {},
   "outputs": [],
   "source": [
    "# Configurando diccionarios, tokenizer... con spaCy\n",
    "\n",
    "import spacy\n",
    "nlp = spacy.load('es')\n",
    "\n",
    "def tokenize_lemmatize_filtering(text):\n",
    "    filtered_lemmas = []\n",
    "    doc = nlp(text)\n",
    "    for token in doc:\n",
    "        # Limpiamos los datos\n",
    "        if(token.pos_ == 'NOUN' or token.pos_ == 'ADJ' or token.pos_ == 'VERB'):\n",
    "            #filtered_lemmas.append(token.lemma_.lower())\n",
    "            filtered_lemmas.append(token.text.lower())\n",
    "    return filtered_lemmas\n",
    "        \n"
   ]
  },
  {
   "cell_type": "markdown",
   "metadata": {},
   "source": [
    "<h3>Obteniendo número óptimo de tópicos para LDA (para datos filtrados, con diccionario y tokenizer spaCy)</h3>"
   ]
  },
  {
   "cell_type": "code",
   "execution_count": 60,
   "metadata": {},
   "outputs": [
    {
     "data": {
      "image/png": "[encoded data removed]",
      "text/plain": [
       "<matplotlib.figure.Figure at 0x7fe3a2a4a5f8>"
      ]
     },
     "metadata": {},
     "output_type": "display_data"
    }
   ],
   "source": [
    "from spacy.lang.en.stop_words import STOP_WORDS\n",
    "en_es_stop_words = STOP_WORDS.copy()\n",
    "\n",
    "from spacy.lang.es.stop_words import STOP_WORDS\n",
    "en_es_stop_words.update(STOP_WORDS)\n",
    "\n",
    "en_es_stop_words.add(\"url\")\n",
    "en_es_stop_words.add(\"href\")\n",
    "en_es_stop_words.add(\"<\")\n",
    "en_es_stop_words.add(\">\")\n",
    "en_es_stop_words.add(\"=\")\n",
    "en_es_stop_words.add(\"[\")\n",
    "en_es_stop_words.add(\"]\")\n",
    "en_es_stop_words.add(\".com\")\n",
    "\n",
    "tf_vectorizer = TfidfVectorizer(max_df=0.8, min_df=7,\n",
    "                                stop_words=en_es_stop_words, tokenizer=tokenize_lemmatize_filtering, ngram_range=(1,1))\n",
    "\n",
    "tf = tf_vectorizer.fit_transform(docs2)\n",
    "diccionario= tf_vectorizer.get_feature_names()\n",
    "\n",
    "num_k = range(1, 16)\n",
    "perple = []\n",
    "\n",
    "for k in num_k:\n",
    "    lda = LatentDirichletAllocation(n_components=k, max_iter=10,\n",
    "                                learning_method='online',\n",
    "                                learning_offset=10.,\n",
    "                                random_state=0)\n",
    "\n",
    "    # Fit model to samples\n",
    "    lda.fit(tf)\n",
    "\n",
    "    # Append the perplexity to the list of perplexities\n",
    "    perple.append(lda.perplexity(tf))\n",
    "\n",
    "\n",
    "# Plot ks vs perplexity\n",
    "plt.plot(num_k, perple, '-o')\n",
    "plt.xlabel('number of topics')\n",
    "plt.ylabel('perplexity')\n",
    "plt.xticks(num_k)\n",
    "plt.show()\n"
   ]
  },
  {
   "cell_type": "markdown",
   "metadata": {},
   "source": [
    "<p>Se selecciona número de tópicos: <b>13</b>.</p>\n",
    "<h3>Obtención de los tópicos con LDA</h3>"
   ]
  },
  {
   "cell_type": "code",
   "execution_count": 61,
   "metadata": {},
   "outputs": [
    {
     "name": "stdout",
     "output_type": "stream",
     "text": [
      "\n",
      "Tópicos en el modelo LDA:\n",
      "\n",
      "Topic #0: servicio mantención velar recuperación asumir urgencia catástrofes prevenir marcados cuidado contexto incendios\n",
      "Topic #1: minutos limpia empresa agua trudeau energía bachelet tasa agencia población intendente chile\n",
      "Topic #2: trump unidos parís presidente donald decisión obama ee.uu blanca eeuu estadounidense casa\n",
      "Topic #3: bosques wwf hora edificios deforestación chile destacará emblemáticos aludiendo planeta juegan logró\n",
      "Topic #4: wwf hora planeta conéctate adoptando voluntaria chile marzo sábado ambiental llamado edificios\n",
      "Topic #5: diarios océano país hielo universidad agricultura reuters principal ártico chillán estudio seminario\n",
      "Topic #6: chile país años desarrollo efectos universidad agua planeta nivel países global nacional\n",
      "Topic #7: municipios chile red trump gestión mar futuro agricultura cooperación adapt ríos región\n",
      "Topic #8: plan energía trump medidas chile regional acción nacional ambiente comunal carbón energías\n",
      "Topic #9: apagarán monumentos sídney luces numerosas egipcias alhambra edición granada recordará preocupaban siddarth\n",
      "Topic #10: países parís favor unidos venezuela canciller trump morales científico consenso gobierno donald\n",
      "Topic #11: orden obama trump gobierno ejecutiva funcionario martes unidos presidente emisiones políticas carbón\n",
      "Topic #12: infraestructura glaciar grey decisión cancillería huracán obras hielo logros torres marejadas glaciares\n",
      "\n"
     ]
    }
   ],
   "source": [
    "noftopics = 13\n",
    "\n",
    "lda = LatentDirichletAllocation(n_components=noftopics, max_iter=10,\n",
    "                                learning_method='online',\n",
    "                                learning_offset=10.,\n",
    "                                random_state=0)\n",
    "# Fit model to samples\n",
    "lda.fit(tf)\n",
    "\n",
    "print(\"\\nTópicos en el modelo LDA:\\n\")\n",
    "print_top_words(lda, diccionario, 12)"
   ]
  },
  {
   "cell_type": "markdown",
   "metadata": {},
   "source": [
    "<h2>Resultados del análisis de tópicos a partir de datos filtrados</h2>\n",
    "<h3>Distribución de tópicos en los documentos (noticias) con datos filtrados</h3>"
   ]
  },
  {
   "cell_type": "code",
   "execution_count": 62,
   "metadata": {},
   "outputs": [
    {
     "name": "stdout",
     "output_type": "stream",
     "text": [
      "[ 0.01086409  0.00794979  0.12624025  0.00794979  0.03106111  0.00794979\n",
      "  0.75611552  0.00794979  0.00794979  0.0121207   0.00794979  0.00794979\n",
      "  0.00794979]\n"
     ]
    },
    {
     "data": {
      "image/png": "[encoded data removed]",
      "text/plain": [
       "<matplotlib.figure.Figure at 0x7fe39728e978>"
      ]
     },
     "metadata": {},
     "output_type": "display_data"
    },
    {
     "data": {
      "image/png": "[encoded data removed]",
      "text/plain": [
       "<matplotlib.figure.Figure at 0x7fe3972af710>"
      ]
     },
     "metadata": {},
     "output_type": "display_data"
    },
    {
     "data": {
      "image/png": "[encoded data removed]",
      "text/plain": [
       "<matplotlib.figure.Figure at 0x7fe38882e320>"
      ]
     },
     "metadata": {},
     "output_type": "display_data"
    }
   ],
   "source": [
    "#Generando algunos gráficos de los resultados\n",
    "from matplotlib.pylab import hist, show\n",
    "import seaborn as sns\n",
    "\n",
    "y=lda.fit_transform(tf)\n",
    "\n",
    "#distribución de tópicos en todos los documentos\n",
    "dist = sum(y)/len(docs2)\n",
    "w=np.arange(0,noftopics)\n",
    "print(dist)\n",
    "plt.bar(w,height=dist,alpha=0.5,tick_label=w)\n",
    "plt.title('Distribución en todas las noticias')\n",
    "plt.xlabel('Tópico')\n",
    "plt.ylabel('Frecuencia')\n",
    "show()\n",
    "\n",
    "#distribución de tópicos en el documento 200\n",
    "plt.bar(w,height=y[200],alpha=0.5,tick_label=w)\n",
    "plt.title('Distribución en la noticia 200')\n",
    "plt.xlabel('Tópico')\n",
    "plt.ylabel('Frecuencia')\n",
    "show()\n",
    "\n",
    "#distribución de tópicos en el documento 600\n",
    "plt.bar(w,height=y[600],alpha=0.5,tick_label=w)\n",
    "plt.title('Distribución en la noticia 600')\n",
    "plt.xlabel('Tópico')\n",
    "plt.ylabel('Frecuencia')\n",
    "show()"
   ]
  },
  {
   "cell_type": "markdown",
   "metadata": {},
   "source": [
    "<h3>Distribución de palabras por tópico (valores no normalizados)</h3>"
   ]
  },
  {
   "cell_type": "code",
   "execution_count": 65,
   "metadata": {},
   "outputs": [
    {
     "data": {
      "image/png": "[encoded data removed]",
      "text/plain": [
       "<matplotlib.figure.Figure at 0x7fe38b906828>"
      ]
     },
     "metadata": {},
     "output_type": "display_data"
    },
    {
     "data": {
      "image/png": "[encoded data removed]",
      "text/plain": [
       "<matplotlib.figure.Figure at 0x7fe38ba70cc0>"
      ]
     },
     "metadata": {},
     "output_type": "display_data"
    },
    {
     "data": {
      "image/png": "[encoded data removed]",
      "text/plain": [
       "<matplotlib.figure.Figure at 0x7fe38b9069e8>"
      ]
     },
     "metadata": {},
     "output_type": "display_data"
    },
    {
     "data": {
      "image/png": "[encoded data removed]",
      "text/plain": [
       "<matplotlib.figure.Figure at 0x7fe38b021908>"
      ]
     },
     "metadata": {},
     "output_type": "display_data"
    },
    {
     "data": {
      "image/png": "[encoded data removed]",
      "text/plain": [
       "<matplotlib.figure.Figure at 0x7fe3973ba898>"
      ]
     },
     "metadata": {},
     "output_type": "display_data"
    },
    {
     "data": {
      "image/png": "[encoded data removed]",
      "text/plain": [
       "<matplotlib.figure.Figure at 0x7fe38bc1d780>"
      ]
     },
     "metadata": {},
     "output_type": "display_data"
    },
    {
     "data": {
      "image/png": "[encoded data removed]",
      "text/plain": [
       "<matplotlib.figure.Figure at 0x7fe38ba8a940>"
      ]
     },
     "metadata": {},
     "output_type": "display_data"
    },
    {
     "data": {
      "image/png": "[encoded data removed]",
      "text/plain": [
       "<matplotlib.figure.Figure at 0x7fe388833518>"
      ]
     },
     "metadata": {},
     "output_type": "display_data"
    },
    {
     "data": {
      "image/png": "[encoded data removed]",
      "text/plain": [
       "<matplotlib.figure.Figure at 0x7fe38b970160>"
      ]
     },
     "metadata": {},
     "output_type": "display_data"
    },
    {
     "data": {
      "image/png": "[encoded data removed]",
      "text/plain": [
       "<matplotlib.figure.Figure at 0x7fe38b8866a0>"
      ]
     },
     "metadata": {},
     "output_type": "display_data"
    },
    {
     "data": {
      "image/png": "[encoded data removed]",
      "text/plain": [
       "<matplotlib.figure.Figure at 0x7fe38b840048>"
      ]
     },
     "metadata": {},
     "output_type": "display_data"
    },
    {
     "data": {
      "image/png": "[encoded data removed]",
      "text/plain": [
       "<matplotlib.figure.Figure at 0x7fe38b9b27b8>"
      ]
     },
     "metadata": {},
     "output_type": "display_data"
    },
    {
     "data": {
      "image/png": "[encoded data removed]",
      "text/plain": [
       "<matplotlib.figure.Figure at 0x7fe3972af198>"
      ]
     },
     "metadata": {},
     "output_type": "display_data"
    }
   ],
   "source": [
    "#Distribución de palabras por tópico\n",
    "n_top_words=12\n",
    "numo =np.arange(0,n_top_words)\n",
    "\n",
    "for idx,topic in enumerate(lda.components_):\n",
    "    d =[]\n",
    "    s = []\n",
    "    for i in topic.argsort()[:-n_top_words - 1:-1]:\n",
    "          s.append(diccionario[i])\n",
    "          d.append(topic[i])\n",
    "          #print(topic[i])\n",
    "    \n",
    "    plt.barh(numo,width=d,alpha=0.5,tick_label=s)\n",
    "    #plt.xticks(range(int(min(d)), int(max(d))+1 ))\n",
    "    plt.title(\"Tópico \" + str(idx))\n",
    "    show()"
   ]
  },
  {
   "cell_type": "markdown",
   "metadata": {},
   "source": [
    "<h2>Resultados</h2>\n",
    "<p>A partir de los datos filtrados, se obtuvieron 13 tópicos:</p>\n",
    "<p><b>Tópico #0</b>: servicio mantención velar recuperación asumir urgencia catástrofes prevenir marcados cuidado contexto incendios<br>\n",
    "<b>Tópico #1</b>: minutos limpia empresa agua trudeau energía bachelet tasa agencia población intendente chile<br>\n",
    "<b>Tópico #2: trump unidos parís presidente donald decisión obama ee.uu blanca eeuu estadounidense casa</b><br>\n",
    "<b>Tópico #3</b>: bosques wwf hora edificios deforestación chile destacará emblemáticos aludiendo planeta juegan logró<br>\n",
    "<b>Tópico #4: wwf hora planeta conéctate adoptando voluntaria chile marzo sábado ambiental llamado edificios</b><br>\n",
    "<b>Tópico #5</b>: diarios océano país hielo universidad agricultura reuters principal ártico chillán estudio seminario<br>\n",
    "<b>Tópico #6: chile país años desarrollo efectos universidad agua planeta nivel países global nacional</b><br>\n",
    "<b>Tópico #7</b>: municipios chile red trump gestión mar futuro agricultura cooperación adapt ríos región<br>\n",
    "<b>Tópico #8</b>: plan energía trump medidas chile regional acción nacional ambiente comunal carbón energías<br>\n",
    "<b>Tópico #9</b>: apagarán monumentos sídney luces numerosas egipcias alhambra edición granada recordará preocupaban siddarth<br>\n",
    "<b>Tópico #10</b>: países parís favor unidos venezuela canciller trump morales científico consenso gobierno donald<br>\n",
    "<b>Tópico #11</b>: orden obama trump gobierno ejecutiva funcionario martes unidos presidente emisiones políticas carbón<br>\n",
    "<b>Tópico #12</b>: infraestructura glaciar grey decisión cancillería huracán obras hielo logros torres marejadas glaciares</p>\n",
    "<p>El tópico de mayor frecuencia de aparición en todos los documentos (cuerpo de las noticias) corresponde al <b>Tópico #6</b>, (75,61%) seguido del <b>Tópico #2</b> (12,62%). Los restantes tópicos tienen, mayormente, una presencia menor al 1%, salvo el <b>Tópico #4</b> que llega al 3,1%.</p>"
   ]
  },
  {
   "cell_type": "markdown",
   "metadata": {},
   "source": [
    "<h2>Conclusiones</h2>  \n",
    "<p>A la pregunta de investigación \"¿Pueden identificarse mediante un análisis de tópicos, posturas respecto del tema cambio climático en noticias de medios de prensa escritos chilenos?\" corresponde entregar como respuesta un no. <b>No es posible hacerlo</b> (al menos con los tópicos obtenidos).</p>\n",
    "<p>Al revisar los tópicos, más aún en el dominante, cuesta encontrar verbos \"de opinión\" y términos utilizados para mostrar acuerdo o desacuerdo.</p>\n",
    "<p>Entre los factores que influyeron a este resultado pueden incluirse:<br>\n",
    "· Ruido en los datos.<br>\n",
    "· Contenido carente de opinión, en los medios de prensa revisados.<br>\n",
    "· Inadecuado proceso de filtrado de los datos.<br>\n",
    "</p>\n",
    "<p>Como limitaciones del trabajo realizado, podemos encontrar:<br>\n",
    "· Volumen del conjunto de datos; tal vez con un mayor volumen de datos pudieron obtenerse tópicos más cercanos a lo deseado.<br>\n",
    "· Mejor selección de las \"stopwords\".<br>\n",
    "· Habría sido útil hacer el mismo análisis con otros conjuntos de datos que incluyeran otro concepto de uso común relacionado con el tema: (\"calentamiento global\"), (\"cambio climático\" OR \"calentamiento global\").</p>\n",
    "<p>Finalmente, surgen necesidades futuras de investigación acerca de cómo obtener las posturas de los medios de prensa, cuando estas estén latentes. Tal vez no basta con analizar los contenidos en  forma independiente, si no que hay que ver el tratamiento que da el medio a lo largo del tiempo.\n",
    "</p>"
   ]
  },
  {
   "cell_type": "markdown",
   "metadata": {},
   "source": [
    "<h2>Referencias</h2>\n",
    "<p>[1] Colaboradores de Wikipedia. Cambio climático [en línea]. Wikipedia, La enciclopedia libre, 2018 [fecha de consulta: 11 de junio de 2018]. Disponible en <https://es.wikipedia.org/w/index.php?title=Cambio_clim%C3%A1tico></p>\n",
    "<p>[2] Cochrane, Michael. Modeling Climate Change Policy Decisions Using a Probability Tree. Watts Up With That?, 2016 [fecha de consulta: 10 de junio de 2018]. Disponible en <https://wattsupwiththat.com/2016/09/21/modeling-climate-change-policy-decisions-using-a-probability-tree/></p>\n",
    "<p>[3] U.S. Environmental Protection Agency. Glossary of Climate Change Terms. EPA, 2018 [fecha de consulta: 11 de junio de 2018]. Disponible en <https://www3.epa.gov/climatechange/glossary.html></p>\n",
    "<p>[4] Colaboradores de Wikipedia. Anexo:Glosario de cambio climático [en línea]. Wikipedia, La enciclopedia libre, 2017 [fecha de consulta: 11 de junio de 2018]. Disponible en <https://es.wikipedia.org/w/index.php?title=Anexo:Glosario_de_cambio_clim%C3%A1tico></p>"
   ]
  }
 ],
 "metadata": {
  "kernelspec": {
   "display_name": "Python 3",
   "language": "python",
   "name": "python3"
  },
  "language_info": {
   "codemirror_mode": {
    "name": "ipython",
    "version": 3
   },
   "file_extension": ".py",
   "mimetype": "text/x-python",
   "name": "python",
   "nbconvert_exporter": "python",
   "pygments_lexer": "ipython3",
   "version": "3.5.3"
  }
 },
 "nbformat": 4,
 "nbformat_minor": 2
}
